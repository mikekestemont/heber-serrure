{
 "cells": [
  {
   "cell_type": "code",
   "execution_count": 1,
   "metadata": {},
   "outputs": [],
   "source": [
    "import os\n",
    "import re\n",
    "import glob\n",
    "import string\n",
    "\n",
    "from lxml import etree"
   ]
  },
  {
   "cell_type": "markdown",
   "metadata": {},
   "source": [
    "Regular expressions etc.:"
   ]
  },
  {
   "cell_type": "code",
   "execution_count": 2,
   "metadata": {},
   "outputs": [],
   "source": [
    "line_number_presence = re.compile('^\\s*([0-9]+)\\s+')\n",
    "rubric = re.compile('\\&([A-Z])\\_([0-9])\\&')\n",
    "verse_punct = '. : | |. .| |: :| :–'.split()"
   ]
  },
  {
   "cell_type": "code",
   "execution_count": 3,
   "metadata": {},
   "outputs": [
    {
     "name": "stdout",
     "output_type": "stream",
     "text": [
      "0\n"
     ]
    }
   ],
   "source": [
    "print(len(list(glob.glob('docx/*.docx'))))"
   ]
  },
  {
   "cell_type": "code",
   "execution_count": 4,
   "metadata": {},
   "outputs": [],
   "source": [
    "from docx import Document"
   ]
  },
  {
   "cell_type": "code",
   "execution_count": 5,
   "metadata": {},
   "outputs": [
    {
     "ename": "FileNotFoundError",
     "evalue": "[Errno 2] No such file or directory: 'docx/2v.docx'",
     "output_type": "error",
     "traceback": [
      "\u001b[0;31m---------------------------------------------------------------------------\u001b[0m",
      "\u001b[0;31mFileNotFoundError\u001b[0m                         Traceback (most recent call last)",
      "\u001b[0;32m<ipython-input-5-6455c6de52d1>\u001b[0m in \u001b[0;36m<module>\u001b[0;34m\u001b[0m\n\u001b[1;32m      1\u001b[0m \u001b[0mpage_num\u001b[0m \u001b[0;34m=\u001b[0m \u001b[0;34m'2v'\u001b[0m\u001b[0;34m\u001b[0m\u001b[0;34m\u001b[0m\u001b[0m\n\u001b[1;32m      2\u001b[0m \u001b[0;34m\u001b[0m\u001b[0m\n\u001b[0;32m----> 3\u001b[0;31m \u001b[0;32mwith\u001b[0m \u001b[0mopen\u001b[0m\u001b[0;34m(\u001b[0m\u001b[0;34mf'docx/{page_num}.docx'\u001b[0m\u001b[0;34m,\u001b[0m \u001b[0;34m'rb'\u001b[0m\u001b[0;34m)\u001b[0m \u001b[0;32mas\u001b[0m \u001b[0mf\u001b[0m\u001b[0;34m:\u001b[0m\u001b[0;34m\u001b[0m\u001b[0;34m\u001b[0m\u001b[0m\n\u001b[0m\u001b[1;32m      4\u001b[0m     \u001b[0mdocument\u001b[0m \u001b[0;34m=\u001b[0m \u001b[0mDocument\u001b[0m\u001b[0;34m(\u001b[0m\u001b[0mf\u001b[0m\u001b[0;34m)\u001b[0m\u001b[0;34m\u001b[0m\u001b[0;34m\u001b[0m\u001b[0m\n",
      "\u001b[0;31mFileNotFoundError\u001b[0m: [Errno 2] No such file or directory: 'docx/2v.docx'"
     ]
    }
   ],
   "source": [
    "page_num = '2v'\n",
    "\n",
    "with open(f'docx/{page_num}.docx', 'rb') as f:\n",
    "    document = Document(f)"
   ]
  },
  {
   "cell_type": "code",
   "execution_count": 114,
   "metadata": {},
   "outputs": [],
   "source": [
    "def reverse_engineer_abbreviation(solution):\n",
    "    expan = f'<ex>{solution}</ex>'\n",
    "    if solution in 'nm' or solution in ('de', 'ab', 'i', 'um'):\n",
    "        abbr = '<g ref=\"#bar\"/>'\n",
    "    elif solution.endswith('r') or solution in ('eu', 'u', 'ne'):\n",
    "        abbr = '<g ref=\"#apomod\"/>'\n",
    "    elif solution.endswith(('ente', 'else')):\n",
    "        abbr = '<g ref=\"#apomod\"/>'\n",
    "    elif solution in (\"et\", \"at\"):\n",
    "        abbr = '<g ref=\"#etfin\"/>'\n",
    "    elif solution == \"pro\":\n",
    "        abbr = '<g ref=\"#pflour\"/>'\n",
    "    elif solution == \"en\":\n",
    "        abbr = '<g ref=\"#bar\"/>'\n",
    "    elif solution == \"par\":\n",
    "        abbr = '<g ref=\"#pbardes\"/>'\n",
    "    elif solution == \"per\":\n",
    "        abbr = '<g ref=\"#pbardes\"/>'\n",
    "    elif solution == \"con\" or solution == \"us\" or solution == \"com\":\n",
    "        abbr = '<g ref=\"#usmod\"/>'\n",
    "    elif solution == \"rv\":\n",
    "        abbr = '<hi rend=\"superscript\">v</hi>'\n",
    "    elif solution in (\"ri\", 'ui'):\n",
    "        abbr = '<hi rend=\"superscript\">i</hi>'\n",
    "    elif solution == \"ur\":\n",
    "        abbr = '<hi rend=\"superscript\">z</hi>'\n",
    "    elif solution == \"aec\":\n",
    "        abbr = '<hi rend=\"superscript\">c</hi>'\n",
    "    elif solution == \"ue\":\n",
    "        abbr = '<hi rend=\"superscript\">e</hi>'\n",
    "    elif solution == \"ro\":\n",
    "        abbr = '<hi rend=\"superscript\">o</hi>'\n",
    "    elif solution == \"ua\":\n",
    "        abbr = '<hi rend=\"superscript\">u</hi>'\n",
    "    elif solution in (\"ra\", 'na'):\n",
    "        abbr = '<hi rend=\"superscript\">u</hi>'\n",
    "    elif solution == \"re\":\n",
    "        abbr = '<hi rend=\"superscript\">e</hi>'\n",
    "    elif solution == \"uae\":\n",
    "        abbr = '<g ref=\"#bar\"/>'\n",
    "    elif solution in (\"eit\", \"iet\", \"otest\"):\n",
    "        abbr = '<hi rend=\"superscript\">t</hi>'\n",
    "    else:\n",
    "        abbr = '<hi rend=\"superscript\">'+solution+'</hi>'\n",
    "        print(f'-> unsolvable abbreviation: {solution}')\n",
    "    try:\n",
    "        return abbr, expan\n",
    "    except:\n",
    "        return '', expan"
   ]
  },
  {
   "cell_type": "code",
   "execution_count": 115,
   "metadata": {},
   "outputs": [],
   "source": [
    "def parse_word(word):\n",
    "    parts, flags = [], []\n",
    "    part, flag = '', False\n",
    "    \n",
    "    for char in word:\n",
    "        if char == '%':\n",
    "            if part:\n",
    "                parts.append(part)\n",
    "                flags.append(flag)\n",
    "            part, flag = '', True\n",
    "        elif char == '@':\n",
    "            parts.append(part)\n",
    "            flags.append(flag)\n",
    "            part, flag = '', False\n",
    "        else:\n",
    "            part += char\n",
    "    \n",
    "    # dangling bit:\n",
    "    if part:\n",
    "        parts.append(part)\n",
    "        flags.append(flag)\n",
    "        \n",
    "    if len(parts) > 1:\n",
    "        solutions, abbrevs = [], []\n",
    "        for part, flag in zip(parts, flags):\n",
    "            if flag:\n",
    "                if part == 'a':\n",
    "                    print(solutions)\n",
    "                abbr, solution = reverse_engineer_abbreviation(part)\n",
    "                solutions.append(solution)\n",
    "                abbrevs.append(abbr)\n",
    "            else:\n",
    "                solutions.append(part)\n",
    "                abbrevs.append(part)\n",
    "\n",
    "        abbr = \"<abbr>\"+''.join(abbrevs)+\"</abbr>\"\n",
    "        expan = \"<expan>\"+''.join(solutions)+\"</expan>\"\n",
    "        encoded = '<choice>'+abbr+expan+'</choice>'\n",
    "    else:\n",
    "        encoded = ''.join(parts)\n",
    "    \n",
    "    return encoded"
   ]
  },
  {
   "cell_type": "code",
   "execution_count": 116,
   "metadata": {},
   "outputs": [],
   "source": [
    "def parse_line(line, line_num=None, page_num=None, kind=None):\n",
    "    word_split = None\n",
    "    if line.endswith('%#@'):\n",
    "        word_split = 'shy'\n",
    "        line = line.replace('%#@', '')\n",
    "    elif line.endswith('-'):\n",
    "        word_split = 'explicit'\n",
    "        line = line[:-1]\n",
    "    \n",
    "    para_left = False\n",
    "    if line.startswith('¶'):\n",
    "        # assumption: if line starts with para sign, it will be placed in left margin\n",
    "        para_left = True\n",
    "        line = line[1:].strip()\n",
    "    \n",
    "    encoded_tokens = []\n",
    "    for word in line.split():\n",
    "        if word in verse_punct:\n",
    "            encoded_tokens.append(f'<c type=\"guide\">{word}</c></l> <l>')\n",
    "        else:\n",
    "            encoded_tokens.append(parse_word(word))\n",
    "    \n",
    "    # deal with rubrics:\n",
    "    for idx, token in enumerate(encoded_tokens):\n",
    "        m = re.search(rubric, token)\n",
    "        if m:\n",
    "            repl = f'<hi rend=\"capitalsize{m.group(2)}\">{m.group(1)}</hi>'\n",
    "            encoded_tokens[idx] = rubric.sub(repl, token)\n",
    "    \n",
    "    encoded = ' '.join(encoded_tokens)\n",
    "    if para_left:\n",
    "        encoded = '<note place=\"left\" resp=\"scribe\"><g ref=\"#para\"/></note> ' + encoded\n",
    "    if word_split == 'shy':\n",
    "        encoded += '<supplied><c type=\"shy\">-</c></supplied>'\n",
    "    elif word_split == 'explicit':\n",
    "        encoded += '<c type=\"shy\">-</c>'\n",
    "    \n",
    "    if kind == 'header':\n",
    "        encoded = f'<fw type=\"header\">{encoded}</fw>'\n",
    "    elif kind == 'title':\n",
    "        encoded = f'</lg></body></text><text>\\n<body>\\n<lb n=\"???\"/>\\n<head>{encoded}</head>\\n<lg>\\n<l>'\n",
    "    elif kind == 'normal':\n",
    "        encoded = f'<lb n=\"{line_num}\" xml:id=\"HB.f{page_num}.{line_num}\"/>' + encoded\n",
    "        if str(line_num) == '1' and str(page_num) == '1r': # only for very first line of MS\n",
    "            encoded = encoded.replace('<lb n=\"1\" xml:id=\"HB.f1r.1\"/>', '<lb n=\"1\" xml:id=\"HB.f1r.1\"/><l>')\n",
    "            \n",
    "    encoded = encoded.replace('[...]', '<gap/>')\n",
    "    encoded = encoded.replace(' <l> ', '\\n<l>')\n",
    "    \n",
    "    return encoded"
   ]
  },
  {
   "cell_type": "code",
   "execution_count": 117,
   "metadata": {},
   "outputs": [],
   "source": [
    "start = \"\"\"<?xml version=\"1.0\" encoding=\"UTF-8\"?>\n",
    "<MVN xmlns=\"http://www.tei-c.org/ns/1.0\">\n",
    "    <teiHeader>\n",
    "        <fileDesc>\n",
    "            <titleStmt>\n",
    "                <title>Het Heber-Serrurehandschrift</title>\n",
    "            </titleStmt>\n",
    "            <publicationStmt>\n",
    "                <p>Diplomatische, digitale uitgave van handschrift Gent, Universiteitsbibliotheek,\n",
    "                    1374, in de reeks Middelnederlandse Verzamelhandschriften uit de Nederlanden</p>\n",
    "            </publicationStmt>\n",
    "            <sourceDesc>\n",
    "                <p>De transcriptie is vervaardigd op basis van een fotografische reproductie van het\n",
    "                    handschrift, die vervolgens in situ is gecollationeerd met het origineel.</p>\n",
    "            </sourceDesc>\n",
    "        </fileDesc>\n",
    "        <encodingDesc>\n",
    "            <xi:include href=\"charDecl.xml\" xmlns:xi=\"http://www.w3.org/2001/XInclude\"/>\n",
    "            <editorialDecl>\n",
    "                <p>Voor alle andere opmerkingen: zie de inleiding bij de editie.</p>\n",
    "            </editorialDecl>\n",
    "        </encodingDesc>\n",
    "        <profileDesc>\n",
    "            <handNotes>\n",
    "                <handNote xml:id=\"TweedePartie-kopiist\">\n",
    "                    <p>Het hele handschrift is vervaardigd door een enkele kopiist die vermoedelijk\n",
    "                        ook de rubricator van het geheel is. Deze scribent is door Erik Kwakkel de\n",
    "                        Tweede Partie-kopiist genoemd (Engelse benaming: Speculum scribe).</p>\n",
    "                </handNote>\n",
    "            </handNotes>\n",
    "        </profileDesc>\n",
    "    </teiHeader>\n",
    "    <text xml:id=\"HBSR\">\n",
    "        <group>\n",
    "            <text xml:id=\"Gallen\" n=\"1.1.1\">\n",
    "                <body>\n",
    "                    <lg>\n",
    "\"\"\"\n",
    "\n",
    "end = \"\"\"\n",
    "</lg>\n",
    "                </body>\n",
    "            </text>\n",
    "        </group>\n",
    "    </text>\n",
    "</MVN>\n",
    "\"\"\""
   ]
  },
  {
   "cell_type": "code",
   "execution_count": 118,
   "metadata": {},
   "outputs": [],
   "source": [
    "def parse_page(page_num):\n",
    "    with open(f'/Users/mikekestemont/Dropbox/Heber-Serrure/docx/{page_num}.docx', 'rb') as f:\n",
    "        document = Document(f)\n",
    "    \n",
    "    ln_num = 0\n",
    "    \n",
    "    xml_str = f'<pb xml:id=\"HBSRf{page_num}\" n=\"{page_num}\"/>'\n",
    "    for idx, para in enumerate(document.paragraphs):\n",
    "        line = ''\n",
    "        for run in para.runs:\n",
    "            if run.italic:\n",
    "                line += f'%{run.text}@'\n",
    "            else:\n",
    "                line += run.text\n",
    "\n",
    "        line = line.strip()\n",
    "        if not line:\n",
    "            continue\n",
    "\n",
    "        if line.startswith('$') and line.endswith('$'):\n",
    "            line = line[1:-1]\n",
    "            parsed = parse_line(line, kind='header')\n",
    "        elif line.startswith('!') and line.endswith('!'):\n",
    "            line = line[1:-1]\n",
    "            parsed = parse_line(line, kind='title')\n",
    "        else:                    \n",
    "            ln_num_match = re.match(line_number_presence, line)\n",
    "            if ln_num_match:\n",
    "                ln_num = int(ln_num_match.group(1))\n",
    "                line = line_number_presence.sub('', line)\n",
    "            else:\n",
    "                try:\n",
    "                    ln_num += 1\n",
    "                except TypeError:\n",
    "                    ln_num = f'???'\n",
    "            parsed = parse_line(line, line_num=ln_num, page_num=page_num, kind='normal')\n",
    "        \n",
    "        parsed = parsed.replace('[', '<unclear>')\n",
    "        parsed = parsed.replace(']', '</unclear>')\n",
    "        xml_str += '\\n' + parsed\n",
    "    \n",
    "    if xml_str.endswith(' <l>'):\n",
    "        xml_str = xml_str[:-4]\n",
    "        \n",
    "    return xml_str"
   ]
  },
  {
   "cell_type": "code",
   "execution_count": 119,
   "metadata": {},
   "outputs": [],
   "source": [
    "#fns = [os.path.basename(fn).replace('.docx', '') for fn in sorted(glob.glob('docx/*.docx'))[:10]]\n",
    "#fns = []\n",
    "#for idx in range(1, 11):\n",
    "#    fns.extend([f'{idx}r', f'{idx}v'])\n",
    "fns = ['6r', '6v']"
   ]
  },
  {
   "cell_type": "code",
   "execution_count": 120,
   "metadata": {},
   "outputs": [
    {
     "name": "stdout",
     "output_type": "stream",
     "text": [
      "==== 6r\n",
      "==== 6v\n"
     ]
    }
   ],
   "source": [
    "page_strs = []\n",
    "for page_num in fns:\n",
    "    print('====', page_num)\n",
    "    page_strs.append(parse_page(page_num))\n",
    "    \n",
    "xml_str = start + '\\n'.join(page_strs) + end\n",
    "\n",
    "with open('tmp.xml', 'w') as f:\n",
    "    f.write(xml_str)"
   ]
  },
  {
   "cell_type": "markdown",
   "metadata": {},
   "source": [
    "### TODO\n",
    "- Small caps (bv. nummers worden nog niet opgevangen)\n",
    "- Strofenummers worden niet onderscheiden van regelnummers\n",
    "- Onderlijnde stukken wordne nog niet opgevangen"
   ]
  },
  {
   "cell_type": "markdown",
   "metadata": {},
   "source": [
    "### Notas en vragen:\n",
    "- Ook eenregelige letters in rood met accolade\n",
    "- Toegevoegde woordafbrekingen (#) staan cursief: hebben we dit consequent gedaan?\n",
    "- : - zou :- moeten worden"
   ]
  },
  {
   "cell_type": "markdown",
   "metadata": {},
   "source": [
    "- Voor de regelnummering komen we echt in de problemen bij de hoofdstuktitels, die we op aparte lijnen weergeven.\n",
    "- ```<c type=\"guide\">.</c> moet eigenlijk <pc type=\"verse\">.</pc>```+ zijn, maar het framework laat dit niet toe\n",
    "- ```<choice><sic></sic><corr><c type=\"shy\">-</c></corr></choice>``` -> wordst niet toegelaten door framework"
   ]
  },
  {
   "cell_type": "code",
   "execution_count": null,
   "metadata": {},
   "outputs": [],
   "source": []
  }
 ],
 "metadata": {
  "kernelspec": {
   "display_name": "Python (py36)",
   "language": "python",
   "name": "py36"
  },
  "language_info": {
   "codemirror_mode": {
    "name": "ipython",
    "version": 3
   },
   "file_extension": ".py",
   "mimetype": "text/x-python",
   "name": "python",
   "nbconvert_exporter": "python",
   "pygments_lexer": "ipython3",
   "version": "3.6.8"
  }
 },
 "nbformat": 4,
 "nbformat_minor": 2
}
