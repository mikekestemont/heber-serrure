{
 "cells": [
  {
   "cell_type": "code",
   "execution_count": 84,
   "metadata": {},
   "outputs": [],
   "source": [
    "import os\n",
    "import re\n",
    "import glob\n",
    "import string\n",
    "\n",
    "from lxml import etree"
   ]
  },
  {
   "cell_type": "markdown",
   "metadata": {},
   "source": [
    "Regular expressions etc.:"
   ]
  },
  {
   "cell_type": "code",
   "execution_count": 85,
   "metadata": {},
   "outputs": [],
   "source": [
    "line_number_presence = re.compile('^\\s*([0-9]+)\\s+')\n",
    "rubric = re.compile('\\&([A-Z])\\_([0-9])\\&')\n",
    "verse_punct = '. : | |. .| |: :| :–'.split()"
   ]
  },
  {
   "cell_type": "code",
   "execution_count": 86,
   "metadata": {},
   "outputs": [
    {
     "name": "stdout",
     "output_type": "stream",
     "text": [
      "265\n"
     ]
    }
   ],
   "source": [
    "print(len(list(glob.glob('docx/*.docx'))))"
   ]
  },
  {
   "cell_type": "code",
   "execution_count": 87,
   "metadata": {},
   "outputs": [],
   "source": [
    "from docx import Document"
   ]
  },
  {
   "cell_type": "code",
   "execution_count": 88,
   "metadata": {},
   "outputs": [],
   "source": [
    "page_num = '2v'\n",
    "\n",
    "with open(f'docx/{page_num}.docx', 'rb') as f:\n",
    "    document = Document(f)"
   ]
  },
  {
   "cell_type": "code",
   "execution_count": 89,
   "metadata": {},
   "outputs": [],
   "source": [
    "def reverse_engineer_abbreviation(solution):\n",
    "    expan = f'<ex>{solution}</ex>'\n",
    "    if solution in ('nm') or solution == 'de':\n",
    "        abbr = '<g ref=\"#bar\"/>'\n",
    "    elif solution.endswith('r'):\n",
    "        abbr = '<g ref=\"#apomod\"/>'\n",
    "    elif solution == \"et\" or solution == \"at\":\n",
    "        abbr = '<g ref=\"#etfin\"/>'\n",
    "    elif solution == \"pro\":\n",
    "        abbr = '<g ref=\"#pflour\"/>'\n",
    "    elif solution == \"par\":\n",
    "        abbr = '<g ref=\"#pbardes\"/>'\n",
    "    elif solution == \"per\":\n",
    "        abbr = '<g ref=\"#pbardes\"/>'\n",
    "    elif solution == \"con\" or solution == \"us\" or solution == \"com\":\n",
    "        abbr = '<g ref=\"#usmod\"/>'\n",
    "    elif solution == \"rv\":\n",
    "        abbr = '<hi rend=\"superscript\">v</hi>'\n",
    "    elif solution == \"ri\":\n",
    "        abbr = '<hi rend=\"superscript\">i</hi>'\n",
    "    elif solution == \"ur\":\n",
    "        abbr = '<hi rend=\"superscript\">z</hi>'\n",
    "    elif solution == \"ue\":\n",
    "        abbr = '<hi rend=\"superscript\">e</hi>'\n",
    "    elif solution == \"ro\":\n",
    "        abbr = '<hi rend=\"superscript\">o</hi>'\n",
    "    elif solution == \"ua\":\n",
    "        abbr = '<hi rend=\"superscript\">u</hi>'\n",
    "    elif solution == \"ra\":\n",
    "        abbr = '<hi rend=\"superscript\">u</hi>'\n",
    "    elif solution == \"re\":\n",
    "        abbr = '<hi rend=\"superscript\">e</hi>'\n",
    "    elif solution == \"eit\" or solution == \"iet\":\n",
    "        abbr = '<hi rend=\"superscript\">t</hi>'\n",
    "    else:\n",
    "        abbr = '<hi rend=\"superscript\">'+solution+'</hi>'\n",
    "        print(f'-> unsolvable abbreviation: {solution}')\n",
    "    try:\n",
    "        return abbr, expan\n",
    "    except:\n",
    "        return '', expan"
   ]
  },
  {
   "cell_type": "code",
   "execution_count": 90,
   "metadata": {},
   "outputs": [],
   "source": [
    "def parse_word(word):\n",
    "    parts, flags = [], []\n",
    "    part, flag = '', False\n",
    "    \n",
    "    for char in word:\n",
    "        if char == '%':\n",
    "            if part:\n",
    "                parts.append(part)\n",
    "                flags.append(flag)\n",
    "            part, flag = '', True\n",
    "        elif char == '@':\n",
    "            parts.append(part)\n",
    "            flags.append(flag)\n",
    "            part, flag = '', False\n",
    "        else:\n",
    "            part += char\n",
    "    \n",
    "    # dangling bit:\n",
    "    if part:\n",
    "        parts.append(part)\n",
    "        flags.append(flag)\n",
    "        \n",
    "    if len(parts) > 1:\n",
    "        solutions, abbrevs = [], []\n",
    "        for part, flag in zip(parts, flags):\n",
    "            if flag:\n",
    "                abbr, solution = reverse_engineer_abbreviation(part)\n",
    "                solutions.append(solution)\n",
    "                abbrevs.append(abbr)\n",
    "            else:\n",
    "                solutions.append(part)\n",
    "                abbrevs.append(part)\n",
    "\n",
    "        abbr = \"<abbr>\"+''.join(abbrevs)+\"</abbr>\"\n",
    "        expan = \"<expan>\"+''.join(solutions)+\"</expan>\"\n",
    "        encoded = '<choice>'+abbr+expan+'</choice>'\n",
    "    else:\n",
    "        encoded = ''.join(parts)\n",
    "    \n",
    "    return encoded"
   ]
  },
  {
   "cell_type": "code",
   "execution_count": 91,
   "metadata": {},
   "outputs": [],
   "source": [
    "def parse_line(line, line_num=None, page_num=None, kind=None):\n",
    "    word_split = None\n",
    "    if line.endswith('%#@'):\n",
    "        word_split = 'shy'\n",
    "        line = line.replace('%#@', '')\n",
    "    elif line.endswith('-'):\n",
    "        word_split = 'explicit'\n",
    "        line = line[:-1]\n",
    "    \n",
    "    para_left = False\n",
    "    if line.startswith('¶'):\n",
    "        # assumption: if line starts with para sign, it will be placed in left margin\n",
    "        para_left = True\n",
    "        line = line[1:].strip()\n",
    "    \n",
    "    encoded_tokens = []\n",
    "    for word in line.split():\n",
    "        if word in verse_punct:\n",
    "            encoded_tokens.append(f'<c type=\"guide\">{word}</c></l> <l>')\n",
    "        else:\n",
    "            encoded_tokens.append(parse_word(word))\n",
    "    \n",
    "    # deal with rubrics:\n",
    "    for idx, token in enumerate(encoded_tokens):\n",
    "        m = re.search(rubric, token)\n",
    "        if m:\n",
    "            repl = f'<hi rend=\"capitalsize{m.group(2)}\">{m.group(1)}</hi>'\n",
    "            encoded_tokens[idx] = rubric.sub(repl, token)\n",
    "    \n",
    "    encoded = ' '.join(encoded_tokens)\n",
    "    if para_left:\n",
    "        encoded = '<note place=\"left\" resp=\"scribe\"><g ref=\"#para\"/></note> ' + encoded\n",
    "    if word_split == 'shy':\n",
    "        encoded += '<supplied><c type=\"shy\">-</c></supplied>'\n",
    "    elif word_split == 'explicit':\n",
    "        encoded += '<c type=\"shy\">-</c>'\n",
    "    \n",
    "    if kind == 'header':\n",
    "        encoded = f'<fw type=\"header\">{encoded}</fw>'\n",
    "    elif kind == 'title':\n",
    "        encoded = f'</lg></body></text><text>\\n<body>\\n<lb n=\"???\"/>\\n<head>{encoded}</head>\\n<lg>\\n<l>'\n",
    "    elif kind == 'normal':\n",
    "        encoded = f'<lb n=\"{line_num}\" xml:id=\"HB.f{page_num}.{line_num}\"/>' + encoded\n",
    "        if str(line_num) == '1' and str(page_num) == '1r': # only for very first line of MS\n",
    "            encoded = encoded.replace('<lb n=\"1\" xml:id=\"HB.f1r.1\"/>', '<lb n=\"1\" xml:id=\"HB.f1r.1\"/><l>')\n",
    "            \n",
    "    encoded = encoded.replace('[...]', '<gap/>')\n",
    "    encoded = encoded.replace(' <l> ', '\\n<l>')\n",
    "    \n",
    "    return encoded"
   ]
  },
  {
   "cell_type": "code",
   "execution_count": 92,
   "metadata": {},
   "outputs": [],
   "source": [
    "start = \"\"\"<?xml version=\"1.0\" encoding=\"UTF-8\"?>\n",
    "<MVN xmlns=\"http://www.tei-c.org/ns/1.0\">\n",
    "    <teiHeader>\n",
    "        <fileDesc>\n",
    "            <titleStmt>\n",
    "                <title>Het Heber-Serrurehandschrift</title>\n",
    "            </titleStmt>\n",
    "            <publicationStmt>\n",
    "                <p>Diplomatische, digitale uitgave van handschrift Gent, Universiteitsbibliotheek,\n",
    "                    1374, in de reeks Middelnederlandse Verzamelhandschriften uit de Nederlanden</p>\n",
    "            </publicationStmt>\n",
    "            <sourceDesc>\n",
    "                <p>De transcriptie is vervaardigd op basis van een fotografische reproductie van het\n",
    "                    handschrift, die vervolgens in situ is gecollationeerd met het origineel.</p>\n",
    "            </sourceDesc>\n",
    "        </fileDesc>\n",
    "        <encodingDesc>\n",
    "            <xi:include href=\"charDecl.xml\" xmlns:xi=\"http://www.w3.org/2001/XInclude\"/>\n",
    "            <editorialDecl>\n",
    "                <p>Voor alle andere opmerkingen: zie de inleiding bij de editie.</p>\n",
    "            </editorialDecl>\n",
    "        </encodingDesc>\n",
    "        <profileDesc>\n",
    "            <handNotes>\n",
    "                <handNote xml:id=\"TweedePartie-kopiist\">\n",
    "                    <p>Het hele handschrift is vervaardigd door een enkele kopiist die vermoedelijk\n",
    "                        ook de rubricator van het geheel is. Deze scribent is door Erik Kwakkel de\n",
    "                        Tweede Partie-kopiist genoemd (Engelse benaming: Speculum scribe).</p>\n",
    "                </handNote>\n",
    "            </handNotes>\n",
    "        </profileDesc>\n",
    "    </teiHeader>\n",
    "    <text xml:id=\"HBSR\">\n",
    "        <group>\n",
    "            <text xml:id=\"Gallen\" n=\"1.1.1\">\n",
    "                <body>\n",
    "                    <lg>\n",
    "\"\"\"\n",
    "\n",
    "end = \"\"\"\n",
    "</lg>\n",
    "                </body>\n",
    "            </text>\n",
    "        </group>\n",
    "    </text>\n",
    "</MVN>\n",
    "\"\"\""
   ]
  },
  {
   "cell_type": "code",
   "execution_count": 95,
   "metadata": {},
   "outputs": [],
   "source": [
    "def parse_page(page_num):\n",
    "    with open(f'/Users/mikekestemont/Dropbox/Heber-Serrure/docx/{page_num}.docx', 'rb') as f:\n",
    "        document = Document(f)\n",
    "    \n",
    "    ln_num = 0\n",
    "    \n",
    "    xml_str = f'<pb xml:id=\"HBSRf{page_num}\" n=\"{page_num}\"/>'\n",
    "    for idx, para in enumerate(document.paragraphs):\n",
    "        line = ''\n",
    "        for run in para.runs:\n",
    "            if run.italic:\n",
    "                line += f'%{run.text}@'\n",
    "            else:\n",
    "                line += run.text\n",
    "\n",
    "        line = line.strip()\n",
    "        if not line:\n",
    "            continue\n",
    "\n",
    "        if line.startswith('$') and line.endswith('$'):\n",
    "            line = line[1:-1]\n",
    "            parsed = parse_line(line, kind='header')\n",
    "        elif line.startswith('!') and line.endswith('!'):\n",
    "            line = line[1:-1]\n",
    "            parsed = parse_line(line, kind='title')\n",
    "        else:                    \n",
    "            ln_num_match = re.match(line_number_presence, line)\n",
    "            if ln_num_match:\n",
    "                ln_num = int(ln_num_match.group(1))\n",
    "                line = line_number_presence.sub('', line)\n",
    "            else:\n",
    "                try:\n",
    "                    ln_num += 1\n",
    "                except TypeError:\n",
    "                    ln_num = f'???'\n",
    "            parsed = parse_line(line, line_num=ln_num, page_num=page_num, kind='normal')\n",
    "        \n",
    "        parsed = parsed.replace('[', '<unclear>')\n",
    "        parsed = parsed.replace(']', '</unclear>')\n",
    "        xml_str += '\\n' + parsed\n",
    "    \n",
    "    if xml_str.endswith(' <l>'):\n",
    "        xml_str = xml_str[:-4]\n",
    "        \n",
    "    return xml_str"
   ]
  },
  {
   "cell_type": "code",
   "execution_count": 98,
   "metadata": {},
   "outputs": [
    {
     "name": "stdout",
     "output_type": "stream",
     "text": [
      "-> unsolvable abbreviation: ra#\n",
      "-> unsolvable abbreviation: en\n"
     ]
    },
    {
     "data": {
      "text/plain": [
       "'<pb xml:id=\"HBSRf2v\" n=\"2v\"/>\\n<fw type=\"header\">tullius</fw>\\n<lb n=\"1\" xml:id=\"HB.f2v.1\"/>Oec eest <choice><abbr>swa<g ref=\"#apomod\"/></abbr><expan>swa<ex>er</ex></expan></choice> <choice><abbr>v<g ref=\"#apomod\"/>d<hi rend=\"superscript\">i</hi>et</abbr><expan>v<ex>er</ex>d<ex>ri</ex>et</expan></choice> <choice><abbr>gedoge<g ref=\"#bar\"/></abbr><expan>gedoge<ex>n</ex></expan></choice> <c type=\"guide\">:</c></l>\\n<l><choice><abbr>Me<g ref=\"#bar\"/></abbr><expan>Me<ex>n</ex></expan></choice> weet <choice><abbr>d<g ref=\"#etfin\"/></abbr><expan>d<ex>at</ex></expan></choice> noch <choice><abbr>wie<g ref=\"#bar\"/></abbr><expan>wie<ex>n</ex></expan></choice> <choice><abbr>toge<g ref=\"#bar\"/></abbr><expan>toge<ex>n</ex></expan></choice> <c type=\"guide\">:</c></l> <l>\\n<lb n=\"2\" xml:id=\"HB.f2v.2\"/>Die <choice><abbr>da<g ref=\"#bar\"/></abbr><expan>da<ex>n</ex></expan></choice> <choice><abbr>d<hi rend=\"superscript\">u</hi>get</abbr><expan>d<ex>ra</ex>get</expan></choice> <choice><abbr>i<g ref=\"#bar\"/></abbr><expan>i<ex>n</ex></expan></choice> <choice><abbr>sine</abbr><expan>sine</expan></choice> <choice><abbr>h<g ref=\"#apomod\"/>te</abbr><expan>h<ex>er</ex>te</expan></choice> <c type=\"guide\">:</c></l>\\n<l><choice><abbr>Swa<g ref=\"#apomod\"/>re</abbr><expan>Swa<ex>er</ex>re</expan></choice> <choice><abbr>da<g ref=\"#bar\"/></abbr><expan>da<ex>n</ex></expan></choice> du {sine|dine} <choice><abbr>sm<g ref=\"#apomod\"/>te</abbr><expan>sm<ex>er</ex>te</expan></choice> <c type=\"guide\">:</c></l>\\n<l>Vrien<supplied><c type=\"shy\">-</c></supplied>\\n<lb n=\"3\" xml:id=\"HB.f2v.3\"/>scap es <choice><abbr>i<g ref=\"#bar\"/></abbr><expan>i<ex>n</ex></expan></choice> <choice><abbr>weluare<g ref=\"#bar\"/></abbr><expan>weluare<ex>n</ex></expan></choice> soete <c type=\"guide\">:</c></l>\\n<l><choice><abbr>En<g ref=\"#bar\"/></abbr><expan>En<ex>de</ex></expan></choice> <choice><abbr>i<g ref=\"#bar\"/></abbr><expan>i<ex>n</ex></expan></choice> mesfalle es si boete <c type=\"guide\">:</c></l>\\n<l>Die\\n<lb n=\"4\" xml:id=\"HB.f2v.4\"/><choice><abbr>o<g ref=\"#bar\"/>scout</abbr><expan>o<ex>n</ex>scout</expan></choice> <choice><abbr>e<g ref=\"#bar\"/></abbr><expan>e<ex>n</ex></expan></choice> es <choice><abbr>n<hi rend=\"superscript\">t</hi></abbr><expan>n<ex>iet</ex></expan></choice> <choice><abbr>go<g ref=\"#etfin\"/></abbr><expan>go<ex>et</ex></expan></choice> <c type=\"guide\">:</c></l>\\n<l><choice><abbr>D<g ref=\"#etfin\"/></abbr><expan>D<ex>at</ex></expan></choice> <choice><abbr>me<g ref=\"#bar\"/></abbr><expan>me<ex>n</ex></expan></choice> dor <choice><abbr>vrie<g ref=\"#bar\"/>scap</abbr><expan>vrie<ex>n</ex>scap</expan></choice> <choice><abbr>mesdo<g ref=\"#etfin\"/></abbr><expan>mesdo<ex>et</ex></expan></choice> <c type=\"guide\">:</c></l>\\n<l>Jn vrien<supplied><c type=\"shy\">-</c></supplied>\\n<lb n=\"5\" xml:id=\"HB.f2v.5\"/><choice><abbr>scape<g ref=\"#bar\"/></abbr><expan>scape<ex>n</ex></expan></choice> <choice><abbr>houde<g ref=\"#bar\"/></abbr><expan>houde<ex>n</ex></expan></choice> dit <c type=\"guide\">:</c></l>\\n<l><choice><abbr>D<g ref=\"#etfin\"/></abbr><expan>D<ex>at</ex></expan></choice> <choice><abbr>me<g ref=\"#bar\"/></abbr><expan>me<ex>n</ex></expan></choice> met <choice><abbr>dorp<g ref=\"#apomod\"/>s</abbr><expan>dorp<ex>er</ex>s</expan></choice> bidt <c type=\"guide\">:</c></l>\\n<l><choice><abbr>En<g ref=\"#bar\"/></abbr><expan>En<ex>de</ex></expan></choice> bidt <choice><abbr>me<g ref=\"#bar\"/>s</abbr><expan>me<ex>n</ex>s</expan></choice>\\n<lb n=\"6\" xml:id=\"HB.f2v.6\"/><choice><abbr>d<g ref=\"#etfin\"/></abbr><expan>d<ex>at</ex></expan></choice> <choice><abbr>me<g ref=\"#bar\"/>s</abbr><expan>me<ex>n</ex>s</expan></choice> niene doe <c type=\"guide\">:</c></l>\\n<l>Alsoe vele <choice><abbr>t<hi rend=\"superscript\">e</hi>ckic</abbr><expan>t<ex>re</ex>ckic</expan></choice> mi toe <c type=\"guide\">:</c></l>\\n<l>Hoe die mee<unclear>n</unclear><supplied><c type=\"shy\">-</c></supplied>\\n<lb n=\"7\" xml:id=\"HB.f2v.7\"/>tucht alsoe gesta <c type=\"guide\">:</c></l>\\n<l><choice><abbr>D<g ref=\"#etfin\"/></abbr><expan>D<ex>at</ex></expan></choice> si na mi oec wel ga <c type=\"guide\">:</c></l>\\n<l>Alsic doe <choice><abbr>d<g ref=\"#etfin\"/></abbr><expan>d<ex>at</ex></expan></choice>\\n<lb n=\"8\" xml:id=\"HB.f2v.8\"/>si <choice><abbr>n<hi rend=\"superscript\">t</hi></abbr><expan>n<ex>iet</ex></expan></choice> ne sneue <c type=\"guide\">:</c></l>\\n<l>Jn die wile <choice><abbr>d<g ref=\"#etfin\"/></abbr><expan>d<ex>at</ex></expan></choice> ic leue <c type=\"guide\">:</c></l>\\n<l><choice><abbr>Tussche<g ref=\"#bar\"/></abbr><expan>Tussche<ex>n</ex></expan></choice> die goede\\n<lb n=\"9\" xml:id=\"HB.f2v.9\"/><choice><abbr>en<g ref=\"#bar\"/></abbr><expan>en<ex>de</ex></expan></choice> die <choice><abbr>q<hi rend=\"superscript\">u</hi>de</abbr><expan>q<ex>ua</ex>de</expan></choice> <c type=\"guide\">:</c></l>\\n<l>En es die <choice><abbr>vrie<g ref=\"#bar\"/>scap</abbr><expan>vrie<ex>n</ex>scap</expan></choice> <choice><abbr>n<hi rend=\"superscript\">t</hi></abbr><expan>n<ex>iet</ex></expan></choice> gestade <c type=\"guide\">:</c></l>\\n<l><choice><abbr>Wa<g ref=\"#bar\"/>t</abbr><expan>Wa<ex>n</ex>t</expan></choice> die sin\\n<lb n=\"10\" xml:id=\"HB.f2v.10\"/>es <choice><abbr>va<g ref=\"#bar\"/></abbr><expan>va<ex>n</ex></expan></choice> hen <choice><abbr>beede<g ref=\"#bar\"/></abbr><expan>beede<ex>n</ex></expan></choice> <c type=\"guide\">:</c></l>\\n<l>Alte wide <choice><abbr>o<g ref=\"#bar\"/>twee</abbr><expan>o<ex>n</ex>twee</expan></choice> <choice><abbr>gesceede<g ref=\"#bar\"/></abbr><expan>gesceede<ex>n</ex></expan></choice> <c type=\"guide\">:</c></l> <l>\\n</lg></body></text><text>\\n<body>\\n<lb n=\"???\"/>\\n<head>van den <choice><abbr>selue<g ref=\"#bar\"/></abbr><expan>selue<ex>n</ex></expan></choice></head>\\n<lg>\\n<l>\\n<lb n=\"11\" xml:id=\"HB.f2v.11\"/><hi rend=\"capitalsize2\">O</hi>ft ons enech god <choice><abbr>da<g ref=\"#apomod\"/></abbr><expan>da<ex>er</ex></expan></choice> toe sette <c type=\"guide\">:</c></l>\\n<l><choice><abbr>Da<g ref=\"#apomod\"/></abbr><expan>Da<ex>er</ex></expan></choice> wi <choice><abbr>hadde<g ref=\"#bar\"/></abbr><expan>hadde<ex>n</ex></expan></choice> <choice><abbr>so<g ref=\"#bar\"/>d<g ref=\"#apomod\"/></abbr><expan>so<ex>n</ex>d<ex>er</ex></expan></choice>\\n<lb n=\"12\" xml:id=\"HB.f2v.12\"/>lette <c type=\"guide\">:</c></l>\\n<l><choice><abbr>Ete<g ref=\"#bar\"/></abbr><expan>Ete<ex>n</ex></expan></choice> <choice><abbr>d<hi rend=\"superscript\">i</hi>nke<g ref=\"#bar\"/></abbr><expan>d<ex>ri</ex>nke<ex>n</ex></expan></choice> <choice><abbr>en<g ref=\"#bar\"/></abbr><expan>en<ex>de</ex></expan></choice> alle miede <c type=\"guide\">:</c></l>\\n<l><choice><abbr>So<g ref=\"#bar\"/>d<g ref=\"#apomod\"/></abbr><expan>So<ex>n</ex>d<ex>er</ex></expan></choice> geselscap <choice><abbr>d<g ref=\"#apomod\"/></abbr><expan>d<ex>er</ex></expan></choice>\\n<lb n=\"13\" xml:id=\"HB.f2v.13\"/>liede <c type=\"guide\">:</c></l>\\n<l>Wie es so <choice><abbr>yserij<g ref=\"#bar\"/></abbr><expan>yserij<ex>n</ex></expan></choice> nv bi <choice><abbr>dage<g ref=\"#bar\"/></abbr><expan>dage<ex>n</ex></expan></choice> <c type=\"guide\">:</c></l>\\n<l>Die so <choice><abbr>h<g ref=\"#apomod\"/>t</abbr><expan>h<ex>er</ex>t</expan></choice> lijf sou <choice><abbr>d<hi rend=\"superscript\">ra#</hi></abbr><expan>d<ex>ra#</ex></expan></choice>\\n<lb n=\"14\" xml:id=\"HB.f2v.14\"/><choice><abbr>ge<g ref=\"#bar\"/></abbr><expan>ge<ex>n</ex></expan></choice> <c type=\"guide\">:</c></l>\\n<l><choice><abbr>Nat<g ref=\"#apomod\"/>e</abbr><expan>Nat<ex>ur</ex>e</expan></choice> die es so reene <c type=\"guide\">:</c></l>\\n<l><choice><abbr>D<g ref=\"#etfin\"/></abbr><expan>D<ex>at</ex></expan></choice> si wilt al <choice><abbr>go<g ref=\"#etfin\"/></abbr><expan>go<ex>et</ex></expan></choice> gemeene <c type=\"guide\">:</c></l> <l>\\n<lb n=\"15\" xml:id=\"HB.f2v.15\"/>Jn <choice><abbr>v<hi rend=\"superscript\">i</hi>enscape<g ref=\"#bar\"/></abbr><expan>v<ex>ri</ex>enscape<ex>n</ex></expan></choice> <choice><abbr>e<g ref=\"#bar\"/></abbr><expan>e<ex>n</ex></expan></choice> <choice><abbr>es</abbr><expan>es</expan></choice> <choice><abbr>n<hi rend=\"superscript\">t</hi></abbr><expan>n<ex>iet</ex></expan></choice> <choice><abbr>so</abbr><expan>so</expan></choice> <choice><abbr>q<hi rend=\"superscript\">u</hi>et</abbr><expan>q<ex>ua</ex>et</expan></choice> <c type=\"guide\">:</c></l>\\n<l>Alse <choice><abbr>smeeke<g ref=\"#bar\"/></abbr><expan>smeeke<ex>n</ex></expan></choice> <choice><abbr>en<g ref=\"#bar\"/></abbr><expan>en<ex>de</ex></expan></choice> valsch beraet <c type=\"guide\">:</c></l> <l>\\n<lb n=\"16\" xml:id=\"HB.f2v.16\"/><choice><abbr>En<g ref=\"#bar\"/></abbr><expan>En<ex>de</ex></expan></choice> <choice><abbr>segge<g ref=\"#bar\"/></abbr><expan>segge<ex>n</ex></expan></choice> <choice><abbr>ald<g ref=\"#apomod\"/></abbr><expan>ald<ex>er</ex></expan></choice> liede wille <c type=\"guide\">:</c></l>\\n<l><choice><abbr>En<g ref=\"#bar\"/></abbr><expan>En<ex>de</ex></expan></choice> <choice><abbr>d<g ref=\"#apomod\"/></abbr><expan>d<ex>er</ex></expan></choice> <choice><abbr>wa<g ref=\"#apomod\"/>h<hi rend=\"superscript\">t</hi></abbr><expan>wa<ex>er</ex>h<ex>eit</ex></expan></choice> <choice><abbr>swige<g ref=\"#bar\"/></abbr><expan>swige<ex>n</ex></expan></choice> stille <c type=\"guide\">:</c></l>\\n<l><choice><abbr>D<g ref=\"#etfin\"/></abbr><expan>D<ex>at</ex></expan></choice> es <choice><abbr>v<hi rend=\"superscript\">i</hi>en</abbr><expan>v<ex>ri</ex>en</expan></choice><supplied><c type=\"shy\">-</c></supplied>\\n<lb n=\"16\" xml:id=\"HB.f2v.16\"/>scap <choice><abbr>v<g ref=\"#apomod\"/>lore<g ref=\"#bar\"/></abbr><expan>v<ex>er</ex>lore<ex>n</ex></expan></choice> <c type=\"guide\">:</c></l>\\n<l>Als een dware <choice><abbr>n<hi rend=\"superscript\">t</hi></abbr><expan>n<ex>iet</ex></expan></choice> <choice><abbr>e<g ref=\"#bar\"/></abbr><expan>e<ex>n</ex></expan></choice> wille <choice><abbr>hore<g ref=\"#bar\"/></abbr><expan>hore<ex>n</ex></expan></choice> <c type=\"guide\">:</c></l>\\n<l><choice><abbr>En<g ref=\"#bar\"/></abbr><expan>En<ex>de</ex></expan></choice> <choice><abbr>sij<g ref=\"#bar\"/></abbr><expan>sij<ex>n</ex></expan></choice> gesel<c type=\"shy\">-</c>\\n<lb n=\"17\" xml:id=\"HB.f2v.17\"/>le die dit weet <c type=\"guide\">:</c></l>\\n<l>Es te liegene gereet <c type=\"guide\">:</c></l>\\n<l>Hoert <choice><abbr>tulli<g ref=\"#usmod\"/></abbr><expan>tulli<ex>us</ex></expan></choice> woert\\n<lb n=\"18\" xml:id=\"HB.f2v.18\"/>menechfoude <c type=\"guide\">:</c></l>\\n<l><choice><abbr>Jnde<g ref=\"#bar\"/></abbr><expan>Jnde<ex>n</ex></expan></choice> <choice><abbr>boec</abbr><expan>boec</expan></choice> <choice><abbr>va<g ref=\"#bar\"/>d<g ref=\"#apomod\"/></abbr><expan>va<ex>n</ex>d<ex>er</ex></expan></choice> oude <c type=\"guide\">:</c></l>\\n<l>So es tfolc <choice><abbr>bute<g ref=\"#bar\"/></abbr><expan>bute<ex>n</ex></expan></choice> <choice><abbr>ga<g ref=\"#bar\"/></abbr><expan>ga<ex>n</ex></expan></choice><c type=\"shy\">-</c>\\n<lb n=\"19\" xml:id=\"HB.f2v.19\"/>ge <c type=\"guide\">:</c></l>\\n<l><choice><abbr>En<g ref=\"#bar\"/></abbr><expan>En<ex>de</ex></expan></choice> al tfolc wille <choice><abbr>leue<g ref=\"#bar\"/></abbr><expan>leue<ex>n</ex></expan></choice> <choice><abbr>la<g ref=\"#bar\"/>ge</abbr><expan>la<ex>n</ex>ge</expan></choice> <c type=\"guide\">:</c></l>\\n<l><choice><abbr>En<g ref=\"#bar\"/></abbr><expan>En<ex>de</ex></expan></choice> als si <choice><abbr>da<g ref=\"#bar\"/></abbr><expan>da<ex>n</ex></expan></choice> <choice><abbr>t<g ref=\"#apomod\"/></abbr><expan>t<ex>er</ex></expan></choice> <choice><abbr>oude<g ref=\"#bar\"/></abbr><expan>oude<ex>n</ex></expan></choice> <choice><abbr>come<g ref=\"#bar\"/></abbr><expan>come<ex>n</ex></expan></choice> <c type=\"guide\">:</c></l> <l>\\n<lb n=\"20\" xml:id=\"HB.f2v.20\"/>So <choice><abbr>vloeke<g ref=\"#bar\"/></abbr><expan>vloeke<ex>n</ex></expan></choice> sise <choice><abbr>en<g ref=\"#bar\"/></abbr><expan>en<ex>de</ex></expan></choice> <choice><abbr>v<g ref=\"#apomod\"/>dome<g ref=\"#bar\"/></abbr><expan>v<ex>er</ex>dome<ex>n</ex></expan></choice> <c type=\"guide\">:</c></l>\\n<l><choice><abbr>La<g ref=\"#bar\"/>ge</abbr><expan>La<ex>n</ex>ge</expan></choice> geleuet <choice><abbr>en<g ref=\"#bar\"/></abbr><expan>en<ex>de</ex></expan></choice> wel <c type=\"guide\">:</c></l>\\n<l>Dats <choice><abbr>i<g ref=\"#bar\"/></abbr><expan>i<ex>n</ex></expan></choice> ge<supplied><c type=\"shy\">-</c></supplied>\\n<lb n=\"21\" xml:id=\"HB.f2v.21\"/>peise een deel spel <c type=\"guide\">:</c></l>\\n<l>Joget heuet <choice><abbr>domh<hi rend=\"superscript\">t</hi></abbr><expan>domh<ex>eit</ex></expan></choice> <choice><abbr>i<g ref=\"#bar\"/></abbr><expan>i<ex>n</ex></expan></choice> <c type=\"guide\">:</c></l>\\n<l>Jn die oude\\n<lb n=\"22\" xml:id=\"HB.f2v.22\"/><choice><abbr>vi<g ref=\"#bar\"/>tme<g ref=\"#bar\"/></abbr><expan>vi<ex>n</ex>tme<ex>n</ex></expan></choice> <choice><abbr>de<g ref=\"#bar\"/></abbr><expan>de<ex>n</ex></expan></choice> sin <c type=\"guide\">:</c></l>\\n<l>Cracht ne <choice><abbr>do<g ref=\"#etfin\"/></abbr><expan>do<ex>et</ex></expan></choice> geene hoge dade <c type=\"guide\">:</c></l>\\n<l>Die <unclear>wel</unclear>\\n<lb n=\"23\" xml:id=\"HB.f2v.23\"/><choice><abbr>ende<g ref=\"#bar\"/></abbr><expan>ende<ex>n</ex></expan></choice> <choice><abbr>e<g ref=\"#bar\"/></abbr><expan>e<ex>n</ex></expan></choice> si bi rade <c type=\"guide\">:</c></l>\\n<l>Oudde dats ene edele gaue <c type=\"guide\">:</c></l>\\n<l><choice><abbr>Wa<g ref=\"#bar\"/>t</abbr><expan>Wa<ex>n</ex>t</expan></choice> si\\n<lb n=\"24\" xml:id=\"HB.f2v.24\"/><choice><abbr>t<hi rend=\"superscript\">e</hi>ct</abbr><expan>t<ex>re</ex>ct</expan></choice> <choice><abbr>d<g ref=\"#apomod\"/></abbr><expan>d<ex>er</ex></expan></choice> <choice><abbr>me<g ref=\"#bar\"/>sch<hi rend=\"superscript\">t</hi></abbr><expan>me<ex>n</ex>sch<ex>eit</ex></expan></choice> aue <c type=\"guide\">:</c></l>\\n<l>Luxurie die sware <choice><abbr>o<g ref=\"#bar\"/>doget</abbr><expan>o<ex>n</ex>doget</expan></choice> <c type=\"guide\">:</c></l>\\n<l>Die <choice><abbr>m<hi rend=\"superscript\">en</hi></abbr><expan>m<ex>en</ex></expan></choice>\\n<lb n=\"25\" xml:id=\"HB.f2v.25\"/><choice><abbr>lacht<g ref=\"#apomod\"/>d</abbr><expan>lacht<ex>er</ex>d</expan></choice> <choice><abbr>i<g ref=\"#bar\"/></abbr><expan>i<ex>n</ex></expan></choice> die ioget <c type=\"guide\">:</c></l>\\n<l>Wat <choice><abbr>oudde<g ref=\"#bar\"/></abbr><expan>oudde<ex>n</ex></expan></choice> <choice><abbr>v<hi rend=\"superscript\">e</hi>ch<hi rend=\"superscript\">t</hi></abbr><expan>v<ex>re</ex>ch<ex>eit</ex></expan></choice> wille <choice><abbr>anevae<g ref=\"#bar\"/></abbr><expan>anevae<ex>n</ex></expan></choice> <c type=\"guide\">:</c></l>\\n<l><choice><abbr>D<g ref=\"#etfin\"/></abbr><expan>D<ex>at</ex></expan></choice>\\n<lb n=\"26\" xml:id=\"HB.f2v.26\"/>ne came <choice><abbr>n<hi rend=\"superscript\">t</hi></abbr><expan>n<ex>iet</ex></expan></choice> <choice><abbr>v<g ref=\"#apomod\"/>stae<g ref=\"#bar\"/></abbr><expan>v<ex>er</ex>stae<ex>n</ex></expan></choice> <c type=\"guide\">:</c></l>\\n<l><choice><abbr>Wa<g ref=\"#bar\"/>t</abbr><expan>Wa<ex>n</ex>t</expan></choice> so des weges es <choice><abbr>me<g ref=\"#bar\"/></abbr><expan>me<ex>n</ex></expan></choice> te gane <c type=\"guide\">:</c></l>\\n<l>So\\n<lb n=\"27\" xml:id=\"HB.f2v.27\"/>ons <choice><abbr>me<g ref=\"#bar\"/></abbr><expan>me<ex>n</ex></expan></choice> <choice><abbr>gels</abbr><expan>gels</expan></choice> bedarf daer ane <c type=\"guide\">:</c></l>'"
      ]
     },
     "execution_count": 98,
     "metadata": {},
     "output_type": "execute_result"
    }
   ],
   "source": [
    "page_num = '2v'\n",
    "page_xml = parse_page(page_num)\n",
    "page_xml"
   ]
  },
  {
   "cell_type": "code",
   "execution_count": 97,
   "metadata": {},
   "outputs": [],
   "source": [
    "xml_str = start + page_xml + end\n",
    "with open('test.xml', 'w') as f:\n",
    "    f.write(xml_str)"
   ]
  },
  {
   "cell_type": "code",
   "execution_count": 53,
   "metadata": {},
   "outputs": [
    {
     "data": {
      "text/plain": [
       "['1r', '1v', '2r', '2v', '3r', '3v', '4r', '4v', '5r', '5v']"
      ]
     },
     "execution_count": 53,
     "metadata": {},
     "output_type": "execute_result"
    }
   ],
   "source": [
    "#fns = [os.path.basename(fn).replace('.docx', '') for fn in sorted(glob.glob('docx/*.docx'))[:10]]\n",
    "fns = []\n",
    "for idx in range(1, 6):\n",
    "    fns.extend([f'{idx}r', f'{idx}v'])\n",
    "fns"
   ]
  },
  {
   "cell_type": "code",
   "execution_count": 50,
   "metadata": {},
   "outputs": [
    {
     "name": "stdout",
     "output_type": "stream",
     "text": [
      "==== 1r\n",
      "==== 1v\n",
      "==== 2r\n",
      "-> unsolvable abbreviation: i\n",
      "==== 2v\n",
      "-> unsolvable abbreviation: ra#\n",
      "-> unsolvable abbreviation: en\n",
      "==== 3r\n",
      "==== 3v\n",
      "-> unsolvable abbreviation: ibi\n",
      "-> unsolvable abbreviation: on\n",
      "-> unsolvable abbreviation: ab\n",
      "==== 4r\n",
      "-> unsolvable abbreviation: ente\n",
      "==== 4v\n",
      "-> unsolvable abbreviation: e\n",
      "-> unsolvable abbreviation: ente\n",
      "==== 5r\n",
      "-> unsolvable abbreviation: en\n",
      "==== 5v\n",
      "-> unsolvable abbreviation: e\n"
     ]
    }
   ],
   "source": [
    "page_strs = []\n",
    "for page_num in fns:\n",
    "    print('====', page_num)\n",
    "    page_strs.append(parse_page(page_num))\n",
    "    \n",
    "xml_str = start + '\\n'.join(page_strs) + end\n",
    "\n",
    "with open('test.xml', 'w') as f:\n",
    "    f.write(xml_str)"
   ]
  },
  {
   "cell_type": "markdown",
   "metadata": {},
   "source": [
    "### TODO\n",
    "- Small caps (bv. nummers worden nog niet opgevangen)\n",
    "- Strofenummers worden niet onderscheiden van regelnummers\n",
    "- Onderlijnde stukken wordne nog niet opgevangen"
   ]
  },
  {
   "cell_type": "markdown",
   "metadata": {},
   "source": [
    "### Notas en vragen:\n",
    "- Ook eenregelige letters in rood met accolade\n",
    "- Toegevoegde woordafbrekingen (#) staan cursief: hebben we dit consequent gedaan?\n",
    "- : - zou :- moeten worden"
   ]
  },
  {
   "cell_type": "markdown",
   "metadata": {},
   "source": [
    "- Voor de regelnummering komen we echt in de problemen bij de hoofdstuktitels, die we op aparte lijnen weergeven.\n",
    "- ```<c type=\"guide\">.</c> moet eigenlijk <pc type=\"verse\">.</pc>```+ zijn, maar het framework laat dit niet toe\n",
    "- ```<choice><sic></sic><corr><c type=\"shy\">-</c></corr></choice>``` -> wordst niet toegelaten door framework"
   ]
  },
  {
   "cell_type": "code",
   "execution_count": null,
   "metadata": {},
   "outputs": [],
   "source": []
  }
 ],
 "metadata": {
  "kernelspec": {
   "display_name": "Python (py36)",
   "language": "python",
   "name": "py36"
  },
  "language_info": {
   "codemirror_mode": {
    "name": "ipython",
    "version": 3
   },
   "file_extension": ".py",
   "mimetype": "text/x-python",
   "name": "python",
   "nbconvert_exporter": "python",
   "pygments_lexer": "ipython3",
   "version": "3.6.8"
  }
 },
 "nbformat": 4,
 "nbformat_minor": 2
}
