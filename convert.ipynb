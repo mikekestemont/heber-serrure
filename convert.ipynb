{
 "cells": [
  {
   "cell_type": "code",
   "execution_count": 469,
   "metadata": {},
   "outputs": [],
   "source": [
    "import os\n",
    "import re\n",
    "import glob\n",
    "import string\n",
    "\n",
    "from lxml import etree"
   ]
  },
  {
   "cell_type": "markdown",
   "metadata": {},
   "source": [
    "Regular expressions etc.:"
   ]
  },
  {
   "cell_type": "code",
   "execution_count": 470,
   "metadata": {},
   "outputs": [],
   "source": [
    "line_number_presence = re.compile('^\\s*([0-9]+)\\s+')\n",
    "rubric = re.compile('\\&([A-Z])\\_([0-9])\\&')\n",
    "verse_punct = '. : | |. .| |: :| :–'.split()"
   ]
  },
  {
   "cell_type": "code",
   "execution_count": 471,
   "metadata": {},
   "outputs": [
    {
     "name": "stdout",
     "output_type": "stream",
     "text": [
      "264\n"
     ]
    }
   ],
   "source": [
    "print(len(list(glob.glob('docx/*.docx'))))"
   ]
  },
  {
   "cell_type": "code",
   "execution_count": 472,
   "metadata": {},
   "outputs": [],
   "source": [
    "from docx import Document"
   ]
  },
  {
   "cell_type": "code",
   "execution_count": 473,
   "metadata": {},
   "outputs": [],
   "source": [
    "page_num = '1r'\n",
    "\n",
    "with open(f'docx/{page_num}.docx', 'rb') as f:\n",
    "    document = Document(f)"
   ]
  },
  {
   "cell_type": "code",
   "execution_count": 474,
   "metadata": {},
   "outputs": [],
   "source": [
    "def reverse_engineer_abbreviation(solution):\n",
    "    expan = f'<ex>{solution}</ex>'\n",
    "    if solution in ('nm') or solution == 'de':\n",
    "        abbr = '<g ref=\"#bar\"/>'\n",
    "    elif solution.endswith('r'):\n",
    "        abbr = '<g ref=\"#apomod\"/>'\n",
    "    elif solution == \"et\" or solution == \"at\":\n",
    "        abbr = '<g ref=\"#etfin\"/>'\n",
    "    elif solution == \"pro\":\n",
    "        abbr = '<g ref=\"#pflour\"/>'\n",
    "    elif solution == \"par\":\n",
    "        abbr = '<g ref=\"#pbardes\"/>'\n",
    "    elif solution == \"per\":\n",
    "        abbr = '<g ref=\"#pbardes\"/>'\n",
    "    elif solution == \"con\" or solution == \"us\" or solution == \"com\":\n",
    "        abbr = '<g ref=\"#usmod\"/>'\n",
    "    elif solution == \"rv\":\n",
    "        abbr = '<hi rend=\"superscript\">v</hi>'\n",
    "    elif solution == \"ri\":\n",
    "        abbr = '<hi rend=\"superscript\">i</hi>'\n",
    "    elif solution == \"ur\":\n",
    "        abbr = '<hi rend=\"superscript\">z</hi>'\n",
    "    elif solution == \"ue\":\n",
    "        abbr = '<hi rend=\"superscript\">e</hi>'\n",
    "    elif solution == \"ro\":\n",
    "        abbr = '<hi rend=\"superscript\">o</hi>'\n",
    "    elif solution == \"ua\":\n",
    "        abbr = '<hi rend=\"superscript\">u</hi>'\n",
    "    elif solution == \"ra\":\n",
    "        abbr = '<hi rend=\"superscript\">u</hi>'\n",
    "    elif solution == \"re\":\n",
    "        abbr = '<hi rend=\"superscript\">e</hi>'\n",
    "    elif solution == \"eit\" or solution == \"iet\":\n",
    "        abbr = '<hi rend=\"superscript\">t</hi>'\n",
    "    else:\n",
    "        abbr = '<hi rend=\"superscript\">'+solution+'</hi>'\n",
    "        print(f'-> unsolvable abbreviation: {solution}')\n",
    "    try:\n",
    "        return abbr, expan\n",
    "    except:\n",
    "        return '', expan"
   ]
  },
  {
   "cell_type": "code",
   "execution_count": 475,
   "metadata": {},
   "outputs": [],
   "source": [
    "def parse_word(word):\n",
    "    parts, flags = [], []\n",
    "    part, flag = '', False\n",
    "    \n",
    "    for char in word:\n",
    "        if char == '%':\n",
    "            if part:\n",
    "                parts.append(part)\n",
    "                flags.append(flag)\n",
    "            part, flag = '', True\n",
    "        elif char == '@':\n",
    "            parts.append(part)\n",
    "            flags.append(flag)\n",
    "            part, flag = '', False\n",
    "        else:\n",
    "            part += char\n",
    "    \n",
    "    # dangling bit:\n",
    "    if part:\n",
    "        parts.append(part)\n",
    "        flags.append(flag)\n",
    "        \n",
    "    if len(parts) > 1:\n",
    "        solutions, abbrevs = [], []\n",
    "        for part, flag in zip(parts, flags):\n",
    "            if flag:\n",
    "                abbr, solution = reverse_engineer_abbreviation(part)\n",
    "                solutions.append(solution)\n",
    "                abbrevs.append(abbr)\n",
    "            else:\n",
    "                solutions.append(part)\n",
    "                abbrevs.append(part)\n",
    "\n",
    "        abbr = \"<abbr>\"+''.join(abbrevs)+\"</abbr>\"\n",
    "        expan = \"<expan>\"+''.join(solutions)+\"</expan>\"\n",
    "        encoded = '<choice>'+abbr+expan+'</choice>'\n",
    "    else:\n",
    "        encoded = ''.join(parts)\n",
    "    \n",
    "    return encoded"
   ]
  },
  {
   "cell_type": "code",
   "execution_count": 483,
   "metadata": {},
   "outputs": [],
   "source": [
    "def parse_line(line, line_num=None, page_num=None, kind=None):\n",
    "    word_split = None\n",
    "    if line.endswith('%#@'):\n",
    "        word_split = 'shy'\n",
    "        line = line.replace('%#@', '')\n",
    "    elif line.endswith('-'):\n",
    "        word_split = 'explicit'\n",
    "        line = line[:-1]\n",
    "    \n",
    "    para_left = False\n",
    "    if line.startswith('¶'):\n",
    "        # assumption: if line starts with para sign, it will be placed in left margin\n",
    "        para_left = True\n",
    "        line = line[1:].strip()\n",
    "    \n",
    "    encoded_tokens = []\n",
    "    for word in line.split():\n",
    "        if word in verse_punct:\n",
    "            encoded_tokens.append(f'<c type=\"guide\">{word}</c></l> <l>')\n",
    "        else:\n",
    "            encoded_tokens.append(parse_word(word))\n",
    "    \n",
    "    # deal with rubrics:\n",
    "    for idx, token in enumerate(encoded_tokens):\n",
    "        m = re.search(rubric, token)\n",
    "        if m:\n",
    "            repl = f'<hi rend=\"capitalsize{m.group(2)}\">{m.group(1)}</hi>'\n",
    "            encoded_tokens[idx] = rubric.sub(repl, token)\n",
    "    \n",
    "    encoded = ' '.join(encoded_tokens)\n",
    "    if para_left:\n",
    "        encoded = '<note place=\"left\" resp=\"scribe\"><g ref=\"#para\"/></note> ' + encoded\n",
    "    if word_split == 'shy':\n",
    "        encoded += '<choice><sic></sic><corr><c type=\"shy\">-</c></corr></choice>'\n",
    "    elif word_split == 'explicit':\n",
    "        encoded += '<c type=\"shy\">-</c>'\n",
    "    \n",
    "    if kind == 'header':\n",
    "        encoded = f'<fw type=\"header\">{encoded}</fw>'\n",
    "    elif kind == 'title':\n",
    "        encoded = f'<head>{encoded}</head>'\n",
    "    elif kind == 'normal':\n",
    "        encoded = f'<lb n=\"{line_num}\" xml:id=\"HB.f{page_num}.{line_num}\"/>' + encoded\n",
    "        if str(line_num) == '1' and str(page_num) == '1r': # only for very first line of MS\n",
    "            encoded = encoded.replace('<lb n=\"1\" xml:id=\"HB.f1r.1\"/>', '<lb n=\"1\" xml:id=\"HB.f1r.1\"/><l>')\n",
    "    \n",
    "    return encoded"
   ]
  },
  {
   "cell_type": "code",
   "execution_count": 484,
   "metadata": {},
   "outputs": [],
   "source": [
    "start = \"\"\"<?xml version=\"1.0\" encoding=\"UTF-8\"?>\n",
    "<MVN xmlns=\"http://www.tei-c.org/ns/1.0\">\n",
    "    <teiHeader>\n",
    "        <fileDesc>\n",
    "            <titleStmt>\n",
    "                <title>Het Heber-Serrurehandschrift</title>\n",
    "            </titleStmt>\n",
    "            <publicationStmt>\n",
    "                <p>Diplomatische, digitale uitgave van handschrift Gent, Universiteitsbibliotheek,\n",
    "                    1374, in de reeks Middelnederlandse Verzamelhandschriften uit de Nederlanden</p>\n",
    "            </publicationStmt>\n",
    "            <sourceDesc>\n",
    "                <p>De transcriptie is vervaardigd op basis van een fotografische reproductie van het\n",
    "                    handschrift, die vervolgens in situ is gecollationeerd met het origineel.</p>\n",
    "            </sourceDesc>\n",
    "        </fileDesc>\n",
    "        <encodingDesc>\n",
    "            <xi:include href=\"charDecl.xml\" xmlns:xi=\"http://www.w3.org/2001/XInclude\"/>\n",
    "            <editorialDecl>\n",
    "                <p>Voor alle andere opmerkingen: zie de inleiding bij de editie.</p>\n",
    "            </editorialDecl>\n",
    "        </encodingDesc>\n",
    "        <profileDesc>\n",
    "            <handNotes>\n",
    "                <handNote xml:id=\"TweedePartie-kopiist\">\n",
    "                    <p>Het hele handschrift is vervaardigd door een enkele kopiist die vermoedelijk\n",
    "                        ook de rubricator van het geheel is. Deze scribent is door Erik Kwakkel de\n",
    "                        Tweede Partie-kopiist genoemd (Engelse benaming: Speculum scribe).</p>\n",
    "                </handNote>\n",
    "            </handNotes>\n",
    "        </profileDesc>\n",
    "    </teiHeader>\n",
    "    <text xml:id=\"HBSR\">\n",
    "        <group>\n",
    "            <text xml:id=\"Gallen\" n=\"1.1.1\">\n",
    "                <body>\n",
    "                    <lg>\n",
    "\"\"\"\n",
    "\n",
    "end = \"\"\"\n",
    "</lg>\n",
    "                </body>\n",
    "            </text>\n",
    "        </group>\n",
    "    </text>\n",
    "</MVN>\n",
    "\"\"\""
   ]
  },
  {
   "cell_type": "code",
   "execution_count": 485,
   "metadata": {},
   "outputs": [],
   "source": [
    "def parse_page(page_num):\n",
    "    with open(f'/Users/mikekestemont/Dropbox/Heber-Serrure/docx/{page_num}.docx', 'rb') as f:\n",
    "        document = Document(f)\n",
    "    \n",
    "    ln_num = 0\n",
    "    \n",
    "    xml_str = f'<pb xml:id=\"HBSRf{page_num}\" n=\"{page_num}\"/>'\n",
    "    for idx, para in enumerate(document.paragraphs):\n",
    "        line = ''\n",
    "        for run in para.runs:\n",
    "            if run.italic:\n",
    "                line += f'%{run.text}@'\n",
    "            else:\n",
    "                line += run.text\n",
    "\n",
    "        line = line.strip()\n",
    "        if not line:\n",
    "            continue\n",
    "\n",
    "        if line.startswith('$') and line.endswith('$'):\n",
    "            line = line[1:-1]\n",
    "            parsed = parse_line(line, kind='header')\n",
    "        elif line.startswith('!') and line.endswith('!'):\n",
    "            line = line[1:-1]\n",
    "            parsed = parse_line(line, kind='title')\n",
    "        else:                    \n",
    "            ln_num_match = re.match(line_number_presence, line)\n",
    "            if ln_num_match:\n",
    "                ln_num = int(ln_num_match.group(1))\n",
    "                line = line_number_presence.sub('', line)\n",
    "            else:\n",
    "                try:\n",
    "                    ln_num += 1\n",
    "                except TypeError:\n",
    "                    ln_num = f'x'\n",
    "            parsed = parse_line(line, line_num=ln_num, page_num=page_num, kind='normal')\n",
    "        \n",
    "        xml_str += '\\n' + parsed\n",
    "    \n",
    "    if xml_str.endswith(' <l>'):\n",
    "        xml_str = xml_str[:-4]\n",
    "        \n",
    "    return xml_str"
   ]
  },
  {
   "cell_type": "code",
   "execution_count": 486,
   "metadata": {},
   "outputs": [
    {
     "data": {
      "text/plain": [
       "'<pb xml:id=\"HBSRf1r\" n=\"1r\"/>\\n<lb n=\"1\" xml:id=\"HB.f1r.1\"/><l>_Dit <choice><abbr>sij<g ref=\"#bar\"/></abbr><expan>sij<ex>n</ex></expan></choice> dier liede <choice><abbr>wo<g ref=\"#apomod\"/>de</abbr><expan>wo<ex>er</ex>de</expan></choice> <choice><abbr>va<g ref=\"#bar\"/></abbr><expan>va<ex>n</ex></expan></choice> <choice><abbr>galle<g ref=\"#bar\"/>_</abbr><expan>galle<ex>n</ex>_</expan></choice>\\n<lb n=\"2\" xml:id=\"HB.f1r.2\"/><hi rend=\"capitalsize1\">D</hi> ie gode die eweleke <choice><abbr>leue<g ref=\"#bar\"/></abbr><expan>leue<ex>n</ex></expan></choice> <c type=\"guide\">:</c></l> <l> <choice><abbr>En<g ref=\"#bar\"/></abbr><expan>En<ex>de</ex></expan></choice> hare <choice><abbr>gifte<g ref=\"#bar\"/></abbr><expan>gifte<ex>n</ex></expan></choice> bi rede<c type=\"shy\">-</c>\\n<lb n=\"3\" xml:id=\"HB.f1r.3\"/><choice><abbr>ne<g ref=\"#bar\"/></abbr><expan>ne<ex>n</ex></expan></choice> <choice><abbr>geue<g ref=\"#bar\"/></abbr><expan>geue<ex>n</ex></expan></choice> <c type=\"guide\">:</c></l> <l> Als si ane liede <choice><abbr>wille<g ref=\"#bar\"/></abbr><expan>wille<ex>n</ex></expan></choice> <choice><abbr>w<hi rend=\"superscript\">e</hi>ke<g ref=\"#bar\"/></abbr><expan>w<ex>re</ex>ke<ex>n</ex></expan></choice> <c type=\"guide\">:</c></l> <l> Hare mesdoen\\n<lb n=\"4\" xml:id=\"HB.f1r.4\"/><choice><abbr>en<g ref=\"#bar\"/></abbr><expan>en<ex>de</ex></expan></choice> hare <choice><abbr>mesp<hi rend=\"superscript\">e</hi>ke<g ref=\"#bar\"/></abbr><expan>mesp<ex>re</ex>ke<ex>n</ex></expan></choice> <c type=\"guide\">:</c></l> <l> So <choice><abbr>geue<g ref=\"#bar\"/></abbr><expan>geue<ex>n</ex></expan></choice> si hen een geval <c type=\"guide\">:</c></l> <l> <choice><abbr>En<g ref=\"#bar\"/></abbr><expan>En<ex>de</ex></expan></choice> hare\\n<lb n=\"5\" xml:id=\"HB.f1r.5\"/>gevoechte male al <c type=\"guide\">:</c></l> <l> <choice><abbr>O<g ref=\"#bar\"/></abbr><expan>O<ex>m</ex></expan></choice> <choice><abbr>d<g ref=\"#etfin\"/></abbr><expan>d<ex>at</ex></expan></choice> hen <choice><abbr>v<g ref=\"#apomod\"/>lies</abbr><expan>v<ex>er</ex>lies</expan></choice> <choice><abbr>en<g ref=\"#bar\"/></abbr><expan>en<ex>de</ex></expan></choice> <choice><abbr>scade<g ref=\"#bar\"/></abbr><expan>scade<ex>n</ex></expan></choice> <c type=\"guide\">:</c></l> <l> <choice><abbr>D<g ref=\"#etfin\"/></abbr><expan>D<ex>at</ex></expan></choice> <choice><abbr>h<g ref=\"#apomod\"/>te</abbr><expan>h<ex>er</ex>te</expan></choice>\\n<lb n=\"6\" xml:id=\"HB.f1r.6\"/>al te <choice><abbr>swa<g ref=\"#apomod\"/>re</abbr><expan>swa<ex>er</ex>re</expan></choice> <choice><abbr>lade<g ref=\"#bar\"/></abbr><expan>lade<ex>n</ex></expan></choice> <c type=\"guide\">:</c></l> <l> <choice><abbr>Selke<g ref=\"#bar\"/></abbr><expan>Selke<ex>n</ex></expan></choice> tijt als hen messciet <c type=\"guide\">:</c></l> <l> Al die\\n<lb n=\"7\" xml:id=\"HB.f1r.7\"/><choice><abbr>w<g ref=\"#apomod\"/>elt</abbr><expan>w<ex>er</ex>elt</expan></choice> ne mochte <choice><abbr>n<hi rend=\"superscript\">t</hi></abbr><expan>n<ex>iet</ex></expan></choice> <c type=\"guide\">:</c></l> <l> <choice><abbr>Dla<g ref=\"#bar\"/>t</abbr><expan>Dla<ex>n</ex>t</expan></choice> <choice><abbr>va<g ref=\"#bar\"/></abbr><expan>va<ex>n</ex></expan></choice> <choice><abbr>galle<g ref=\"#bar\"/></abbr><expan>galle<ex>n</ex></expan></choice> <choice><abbr>bed<g ref=\"#apomod\"/>ue<g ref=\"#bar\"/></abbr><expan>bed<ex>er</ex>ue<ex>n</ex></expan></choice> <choice><abbr>:</abbr><expan>:</expan></choice> Wille <choice><abbr>he<g ref=\"#bar\"/></abbr><expan>he<ex>m</ex></expan></choice>\\n<lb n=\"8\" xml:id=\"HB.f1r.8\"/><choice><abbr>th<g ref=\"#apomod\"/>te</abbr><expan>th<ex>er</ex>te</expan></choice> <choice><abbr>ou<g ref=\"#apomod\"/></abbr><expan>ou<ex>er</ex></expan></choice> een <choice><abbr>w<g ref=\"#apomod\"/>ue<g ref=\"#bar\"/></abbr><expan>w<ex>er</ex>ue<ex>n</ex></expan></choice> <c type=\"guide\">:</c></l> <l> Die <choice><abbr>galle<g ref=\"#bar\"/></abbr><expan>galle<ex>n</ex></expan></choice> <choice><abbr>sij<g ref=\"#bar\"/></abbr><expan>sij<ex>n</ex></expan></choice> alle <choice><abbr>va<g ref=\"#bar\"/></abbr><expan>va<ex>n</ex></expan></choice> <choice><abbr>si<g ref=\"#bar\"/>ne</abbr><expan>si<ex>n</ex>ne</expan></choice> <c type=\"guide\">:</c></l> <l> Goet heet <choice><abbr>en<g ref=\"#bar\"/></abbr><expan>en<ex>de</ex></expan></choice>\\n<lb n=\"9\" xml:id=\"HB.f1r.9\"/>fier <choice><abbr>va<g ref=\"#bar\"/></abbr><expan>va<ex>n</ex></expan></choice> <choice><abbr>hare<g ref=\"#bar\"/></abbr><expan>hare<ex>n</ex></expan></choice> <choice><abbr>begi<g ref=\"#bar\"/>ne</abbr><expan>begi<ex>n</ex>ne</expan></choice> <c type=\"guide\">:</c></l> <l> Thant <choice><abbr>geloeue<g ref=\"#bar\"/></abbr><expan>geloeue<ex>n</ex></expan></choice> si ere mare <c type=\"guide\">:</c></l> <l>\\n<lb n=\"10\" xml:id=\"HB.f1r.10\"/>Recht oft ware geproeft <choice><abbr>i<g ref=\"#bar\"/>t</abbr><expan>i<ex>n</ex>t</expan></choice> ware <c type=\"guide\">:</c></l> <l> Qualike <choice><abbr>moge<g ref=\"#bar\"/></abbr><expan>moge<ex>n</ex></expan></choice>\\n<lb n=\"11\" xml:id=\"HB.f1r.11\"/>si iet <choice><abbr>la<g ref=\"#bar\"/>ge</abbr><expan>la<ex>n</ex>ge</expan></choice> <c type=\"guide\">:</c></l> <l> Jn <choice><abbr>pine<g ref=\"#bar\"/></abbr><expan>pine<ex>n</ex></expan></choice> <choice><abbr>sij<g ref=\"#bar\"/></abbr><expan>sij<ex>n</ex></expan></choice> <choice><abbr>en<g ref=\"#bar\"/></abbr><expan>en<ex>de</ex></expan></choice> <choice><abbr>i<g ref=\"#bar\"/></abbr><expan>i<ex>n</ex></expan></choice> <choice><abbr>bedwa<g ref=\"#bar\"/>ge</abbr><expan>bedwa<ex>n</ex>ge</expan></choice> <c type=\"guide\">:</c></l> <l> <choice><abbr>Me<g ref=\"#bar\"/></abbr><expan>Me<ex>n</ex></expan></choice> <choice><abbr>vi<g ref=\"#bar\"/>t</abbr><expan>vi<ex>n</ex>t</expan></choice> <choice><abbr>va<g ref=\"#bar\"/></abbr><expan>va<ex>n</ex></expan></choice> hen\\n<lb n=\"12\" xml:id=\"HB.f1r.12\"/><choice><abbr>menege<g ref=\"#bar\"/></abbr><expan>menege<ex>n</ex></expan></choice> <choice><abbr>gro<g ref=\"#etfin\"/></abbr><expan>gro<ex>et</ex></expan></choice> <c type=\"guide\">:</c></l> <l> Die hen <choice><abbr>selue<g ref=\"#bar\"/></abbr><expan>selue<ex>n</ex></expan></choice> eer <choice><abbr>slae<g ref=\"#bar\"/></abbr><expan>slae<ex>n</ex></expan></choice> te doot <c type=\"guide\">:</c></l> <l> Dan\\n<lb n=\"13\" xml:id=\"HB.f1r.13\"/>si wiselike <choice><abbr>i<g ref=\"#bar\"/></abbr><expan>i<ex>n</ex></expan></choice> <choice><abbr>d<g ref=\"#apomod\"/></abbr><expan>d<ex>er</ex></expan></choice> hoede <c type=\"guide\">:</c></l> <l> <choice><abbr>Ghedoegede<g ref=\"#bar\"/></abbr><expan>Ghedoegede<ex>n</ex></expan></choice> <choice><abbr>la<g ref=\"#bar\"/>ge</abbr><expan>la<ex>n</ex>ge</expan></choice> armoede <c type=\"guide\">:</c></l> <l> –'"
      ]
     },
     "execution_count": 486,
     "metadata": {},
     "output_type": "execute_result"
    }
   ],
   "source": [
    "page_num = '1r'\n",
    "page_xml = parse_page(page_num)\n",
    "page_xml"
   ]
  },
  {
   "cell_type": "code",
   "execution_count": 487,
   "metadata": {},
   "outputs": [],
   "source": [
    "xml_str = start + page_xml + end\n",
    "with open('test.xml', 'w') as f:\n",
    "    f.write(xml_str)"
   ]
  },
  {
   "cell_type": "code",
   "execution_count": 488,
   "metadata": {},
   "outputs": [
    {
     "data": {
      "text/plain": [
       "['1r', '1v', '2r', '2v', '3r', '3v', '4r', '4v', '5r', '5v']"
      ]
     },
     "execution_count": 488,
     "metadata": {},
     "output_type": "execute_result"
    }
   ],
   "source": [
    "#fns = [os.path.basename(fn).replace('.docx', '') for fn in sorted(glob.glob('docx/*.docx'))[:10]]\n",
    "fns = []\n",
    "for idx in range(1, 6):\n",
    "    fns.extend([f'{idx}r', f'{idx}v'])\n",
    "fns"
   ]
  },
  {
   "cell_type": "code",
   "execution_count": 489,
   "metadata": {},
   "outputs": [
    {
     "name": "stdout",
     "output_type": "stream",
     "text": [
      "==== 1r\n",
      "==== 1v\n",
      "==== 2r\n",
      "-> unsolvable abbreviation: i\n",
      "==== 2v\n",
      "-> unsolvable abbreviation: ra#\n",
      "-> unsolvable abbreviation: en\n",
      "==== 3r\n",
      "==== 3v\n",
      "-> unsolvable abbreviation: ibi\n",
      "-> unsolvable abbreviation: on\n",
      "-> unsolvable abbreviation: ab\n",
      "==== 4r\n",
      "-> unsolvable abbreviation: ente\n",
      "==== 4v\n",
      "-> unsolvable abbreviation: e\n",
      "-> unsolvable abbreviation: ente\n",
      "==== 5r\n",
      "-> unsolvable abbreviation: en\n",
      "==== 5v\n",
      "-> unsolvable abbreviation: e\n"
     ]
    }
   ],
   "source": [
    "page_strs = []\n",
    "for page_num in fns:\n",
    "    print('====', page_num)\n",
    "    page_strs.append(parse_page(page_num))\n",
    "    \n",
    "xml_str = start + '\\n'.join(page_strs) + end\n",
    "\n",
    "with open('test.xml', 'w') as f:\n",
    "    f.write(xml_str)"
   ]
  },
  {
   "cell_type": "markdown",
   "metadata": {},
   "source": [
    "### TODO\n",
    "- Small caps (bv. nummers worden nog niet opgevangen)\n",
    "- Strofenummers worden niet onderscheiden van regelnummers\n",
    "- Onderlijnde stukken wordne nog niet opgevangen"
   ]
  },
  {
   "cell_type": "markdown",
   "metadata": {},
   "source": [
    "### Notas en vragen:\n",
    "- Ook eenregelige letters in rood met accolade\n",
    "- Toegevoegde woordafbrekingen (#) staan cursief: hebben we dit consequent gedaan?\n",
    "- : - zou :- moeten worden"
   ]
  },
  {
   "cell_type": "markdown",
   "metadata": {},
   "source": [
    "- Voor de regelnummering komen we echt in de problemen bij de hoofdstuktitels, die we op aparte lijnen weergeven.\n",
    "- ```<c type=\"guide\">.</c> moet eigenlijk <pc type=\"verse\">.</pc>```+ zijn, maar het framework laat dit niet toe\n",
    "- ```<choice><sic></sic><corr><c type=\"shy\">-</c></corr></choice>``` -> wordst niet toegelaten door framework"
   ]
  },
  {
   "cell_type": "code",
   "execution_count": null,
   "metadata": {},
   "outputs": [],
   "source": []
  }
 ],
 "metadata": {
  "kernelspec": {
   "display_name": "Python (py36)",
   "language": "python",
   "name": "py36"
  },
  "language_info": {
   "codemirror_mode": {
    "name": "ipython",
    "version": 3
   },
   "file_extension": ".py",
   "mimetype": "text/x-python",
   "name": "python",
   "nbconvert_exporter": "python",
   "pygments_lexer": "ipython3",
   "version": "3.6.8"
  }
 },
 "nbformat": 4,
 "nbformat_minor": 2
}
