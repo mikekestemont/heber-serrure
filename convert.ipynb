{
 "cells": [
  {
   "cell_type": "code",
   "execution_count": 27,
   "metadata": {},
   "outputs": [],
   "source": [
    "import os\n",
    "import re\n",
    "import glob\n",
    "import string\n",
    "\n",
    "from lxml import etree"
   ]
  },
  {
   "cell_type": "markdown",
   "metadata": {},
   "source": [
    "Regular expressions etc.:"
   ]
  },
  {
   "cell_type": "code",
   "execution_count": 28,
   "metadata": {},
   "outputs": [],
   "source": [
    "line_number_presence = re.compile('^\\s*([0-9]+)\\s+')\n",
    "rubric = re.compile('\\&([A-Z])\\_([0-9])\\&')\n",
    "verse_punct = '. : | |. .| |: :| :–'.split()"
   ]
  },
  {
   "cell_type": "code",
   "execution_count": 29,
   "metadata": {},
   "outputs": [
    {
     "name": "stdout",
     "output_type": "stream",
     "text": [
      "264\n"
     ]
    }
   ],
   "source": [
    "print(len(list(glob.glob('docx/*.docx'))))"
   ]
  },
  {
   "cell_type": "code",
   "execution_count": 30,
   "metadata": {},
   "outputs": [],
   "source": [
    "from docx import Document"
   ]
  },
  {
   "cell_type": "code",
   "execution_count": 31,
   "metadata": {},
   "outputs": [],
   "source": [
    "page_num = '1r'\n",
    "\n",
    "with open(f'docx/{page_num}.docx', 'rb') as f:\n",
    "    document = Document(f)"
   ]
  },
  {
   "cell_type": "code",
   "execution_count": 32,
   "metadata": {},
   "outputs": [],
   "source": [
    "def reverse_engineer_abbreviation(solution):\n",
    "    expan = f'<ex>{solution}</ex>'\n",
    "    if solution in ('nm') or solution == 'de':\n",
    "        abbr = '<g ref=\"#bar\"/>'\n",
    "    elif solution.endswith('r'):\n",
    "        abbr = '<g ref=\"#apomod\"/>'\n",
    "    elif solution == \"et\" or solution == \"at\":\n",
    "        abbr = '<g ref=\"#etfin\"/>'\n",
    "    elif solution == \"pro\":\n",
    "        abbr = '<g ref=\"#pflour\"/>'\n",
    "    elif solution == \"par\":\n",
    "        abbr = '<g ref=\"#pbardes\"/>'\n",
    "    elif solution == \"per\":\n",
    "        abbr = '<g ref=\"#pbardes\"/>'\n",
    "    elif solution == \"con\" or solution == \"us\" or solution == \"com\":\n",
    "        abbr = '<g ref=\"#usmod\"/>'\n",
    "    elif solution == \"rv\":\n",
    "        abbr = '<hi rend=\"superscript\">v</hi>'\n",
    "    elif solution == \"ri\":\n",
    "        abbr = '<hi rend=\"superscript\">i</hi>'\n",
    "    elif solution == \"ur\":\n",
    "        abbr = '<hi rend=\"superscript\">z</hi>'\n",
    "    elif solution == \"ue\":\n",
    "        abbr = '<hi rend=\"superscript\">e</hi>'\n",
    "    elif solution == \"ro\":\n",
    "        abbr = '<hi rend=\"superscript\">o</hi>'\n",
    "    elif solution == \"ua\":\n",
    "        abbr = '<hi rend=\"superscript\">u</hi>'\n",
    "    elif solution == \"ra\":\n",
    "        abbr = '<hi rend=\"superscript\">u</hi>'\n",
    "    elif solution == \"re\":\n",
    "        abbr = '<hi rend=\"superscript\">e</hi>'\n",
    "    elif solution == \"eit\" or solution == \"iet\":\n",
    "        abbr = '<hi rend=\"superscript\">t</hi>'\n",
    "    else:\n",
    "        abbr = '<hi rend=\"superscript\">'+solution+'</hi>'\n",
    "        print(f'-> unsolvable abbreviation: {solution}')\n",
    "    try:\n",
    "        return abbr, expan\n",
    "    except:\n",
    "        return '', expan"
   ]
  },
  {
   "cell_type": "code",
   "execution_count": 33,
   "metadata": {},
   "outputs": [],
   "source": [
    "def parse_word(word):\n",
    "    parts, flags = [], []\n",
    "    part, flag = '', False\n",
    "    \n",
    "    for char in word:\n",
    "        if char == '%':\n",
    "            if part:\n",
    "                parts.append(part)\n",
    "                flags.append(flag)\n",
    "            part, flag = '', True\n",
    "        elif char == '@':\n",
    "            parts.append(part)\n",
    "            flags.append(flag)\n",
    "            part, flag = '', False\n",
    "        else:\n",
    "            part += char\n",
    "    \n",
    "    # dangling bit:\n",
    "    if part:\n",
    "        parts.append(part)\n",
    "        flags.append(flag)\n",
    "        \n",
    "    if len(parts) > 1:\n",
    "        solutions, abbrevs = [], []\n",
    "        for part, flag in zip(parts, flags):\n",
    "            if flag:\n",
    "                abbr, solution = reverse_engineer_abbreviation(part)\n",
    "                solutions.append(solution)\n",
    "                abbrevs.append(abbr)\n",
    "            else:\n",
    "                solutions.append(part)\n",
    "                abbrevs.append(part)\n",
    "\n",
    "        abbr = \"<abbr>\"+''.join(abbrevs)+\"</abbr>\"\n",
    "        expan = \"<expan>\"+''.join(solutions)+\"</expan>\"\n",
    "        encoded = '<choice>'+abbr+expan+'</choice>'\n",
    "    else:\n",
    "        encoded = ''.join(parts)\n",
    "    \n",
    "    return encoded"
   ]
  },
  {
   "cell_type": "code",
   "execution_count": 38,
   "metadata": {},
   "outputs": [],
   "source": [
    "def parse_line(line, line_num=None, page_num=None, kind=None):\n",
    "    word_split = None\n",
    "    if line.endswith('%#@'):\n",
    "        word_split = 'shy'\n",
    "        line = line.replace('%#@', '')\n",
    "    elif line.endswith('-'):\n",
    "        word_split = 'explicit'\n",
    "        line = line[:-1]\n",
    "    \n",
    "    para_left = False\n",
    "    if line.startswith('¶'):\n",
    "        # assumption: if line starts with para sign, it will be placed in left margin\n",
    "        para_left = True\n",
    "        line = line[1:].strip()\n",
    "    \n",
    "    encoded_tokens = []\n",
    "    for word in line.split():\n",
    "        if word in verse_punct:\n",
    "            encoded_tokens.append(f'<c type=\"guide\">{word}</c></l> <l>')\n",
    "        else:\n",
    "            encoded_tokens.append(parse_word(word))\n",
    "    \n",
    "    # deal with rubrics:\n",
    "    for idx, token in enumerate(encoded_tokens):\n",
    "        m = re.search(rubric, token)\n",
    "        if m:\n",
    "            repl = f'<hi rend=\"capitalsize{m.group(2)}\">{m.group(1)}</hi>'\n",
    "            encoded_tokens[idx] = rubric.sub(repl, token)\n",
    "    \n",
    "    encoded = ' '.join(encoded_tokens)\n",
    "    if para_left:\n",
    "        encoded = '<note place=\"left\" resp=\"scribe\"><g ref=\"#para\"/></note> ' + encoded\n",
    "    if word_split == 'shy':\n",
    "        encoded += '<choice><sic></sic><corr><c type=\"shy\">-</c></corr></choice>'\n",
    "    elif word_split == 'explicit':\n",
    "        encoded += '<c type=\"shy\">-</c>'\n",
    "    \n",
    "    if kind == 'header':\n",
    "        encoded = f'<fw type=\"header\">{encoded}</fw>'\n",
    "    elif kind == 'title':\n",
    "        encoded = f'<head>{encoded}</head>'\n",
    "    elif kind == 'normal':\n",
    "        encoded = f'<lb n=\"{line_num}\" xml:id=\"HB.f{page_num}.{line_num}\"/>' + encoded\n",
    "        if str(line_num) == '1' and str(page_num) == '1r': # only for very first line of MS\n",
    "            encoded = encoded.replace('<lb n=\"1\" xml:id=\"HB.f1r.1\"/>', '<lb n=\"1\" xml:id=\"HB.f1r.1\"/><l>')\n",
    "            \n",
    "    encoded = encoded.replace('[...]', '<gap/>')\n",
    "    \n",
    "    return encoded"
   ]
  },
  {
   "cell_type": "code",
   "execution_count": 39,
   "metadata": {},
   "outputs": [],
   "source": [
    "start = \"\"\"<?xml version=\"1.0\" encoding=\"UTF-8\"?>\n",
    "<MVN xmlns=\"http://www.tei-c.org/ns/1.0\">\n",
    "    <teiHeader>\n",
    "        <fileDesc>\n",
    "            <titleStmt>\n",
    "                <title>Het Heber-Serrurehandschrift</title>\n",
    "            </titleStmt>\n",
    "            <publicationStmt>\n",
    "                <p>Diplomatische, digitale uitgave van handschrift Gent, Universiteitsbibliotheek,\n",
    "                    1374, in de reeks Middelnederlandse Verzamelhandschriften uit de Nederlanden</p>\n",
    "            </publicationStmt>\n",
    "            <sourceDesc>\n",
    "                <p>De transcriptie is vervaardigd op basis van een fotografische reproductie van het\n",
    "                    handschrift, die vervolgens in situ is gecollationeerd met het origineel.</p>\n",
    "            </sourceDesc>\n",
    "        </fileDesc>\n",
    "        <encodingDesc>\n",
    "            <xi:include href=\"charDecl.xml\" xmlns:xi=\"http://www.w3.org/2001/XInclude\"/>\n",
    "            <editorialDecl>\n",
    "                <p>Voor alle andere opmerkingen: zie de inleiding bij de editie.</p>\n",
    "            </editorialDecl>\n",
    "        </encodingDesc>\n",
    "        <profileDesc>\n",
    "            <handNotes>\n",
    "                <handNote xml:id=\"TweedePartie-kopiist\">\n",
    "                    <p>Het hele handschrift is vervaardigd door een enkele kopiist die vermoedelijk\n",
    "                        ook de rubricator van het geheel is. Deze scribent is door Erik Kwakkel de\n",
    "                        Tweede Partie-kopiist genoemd (Engelse benaming: Speculum scribe).</p>\n",
    "                </handNote>\n",
    "            </handNotes>\n",
    "        </profileDesc>\n",
    "    </teiHeader>\n",
    "    <text xml:id=\"HBSR\">\n",
    "        <group>\n",
    "            <text xml:id=\"Gallen\" n=\"1.1.1\">\n",
    "                <body>\n",
    "                    <lg>\n",
    "\"\"\"\n",
    "\n",
    "end = \"\"\"\n",
    "</lg>\n",
    "                </body>\n",
    "            </text>\n",
    "        </group>\n",
    "    </text>\n",
    "</MVN>\n",
    "\"\"\""
   ]
  },
  {
   "cell_type": "code",
   "execution_count": 40,
   "metadata": {},
   "outputs": [],
   "source": [
    "def parse_page(page_num):\n",
    "    with open(f'/Users/mikekestemont/Dropbox/Heber-Serrure/docx/{page_num}.docx', 'rb') as f:\n",
    "        document = Document(f)\n",
    "    \n",
    "    ln_num = 0\n",
    "    \n",
    "    xml_str = f'<pb xml:id=\"HBSRf{page_num}\" n=\"{page_num}\"/>'\n",
    "    for idx, para in enumerate(document.paragraphs):\n",
    "        line = ''\n",
    "        for run in para.runs:\n",
    "            if run.italic:\n",
    "                line += f'%{run.text}@'\n",
    "            else:\n",
    "                line += run.text\n",
    "\n",
    "        line = line.strip()\n",
    "        if not line:\n",
    "            continue\n",
    "\n",
    "        if line.startswith('$') and line.endswith('$'):\n",
    "            line = line[1:-1]\n",
    "            parsed = parse_line(line, kind='header')\n",
    "        elif line.startswith('!') and line.endswith('!'):\n",
    "            line = line[1:-1]\n",
    "            parsed = parse_line(line, kind='title')\n",
    "        else:                    \n",
    "            ln_num_match = re.match(line_number_presence, line)\n",
    "            if ln_num_match:\n",
    "                ln_num = int(ln_num_match.group(1))\n",
    "                line = line_number_presence.sub('', line)\n",
    "            else:\n",
    "                try:\n",
    "                    ln_num += 1\n",
    "                except TypeError:\n",
    "                    ln_num = f'x'\n",
    "            parsed = parse_line(line, line_num=ln_num, page_num=page_num, kind='normal')\n",
    "        \n",
    "        xml_str += '\\n' + parsed\n",
    "    \n",
    "    if xml_str.endswith(' <l>'):\n",
    "        xml_str = xml_str[:-4]\n",
    "        \n",
    "    return xml_str"
   ]
  },
  {
   "cell_type": "code",
   "execution_count": 41,
   "metadata": {},
   "outputs": [
    {
     "data": {
      "text/plain": [
       "'<pb xml:id=\"HBSRf6ar\" n=\"6ar\"/>\\n<lb n=\"1\" xml:id=\"HB.f6ar.1\"/><choice><abbr>ra<g ref=\"#etfin\"/></abbr><expan>ra<ex>et</ex></expan></choice> <gap/>\\n<lb n=\"2\" xml:id=\"HB.f6ar.2\"/>alse n<gap/>\\n<lb n=\"3\" xml:id=\"HB.f6ar.3\"/><choice><abbr>Sij<g ref=\"#bar\"/>se</abbr><expan>Sij<ex>n</ex>se</expan></choice> <gap/>\\n<lb n=\"4\" xml:id=\"HB.f6ar.4\"/>bi hi <choice><abbr>di<g ref=\"#bar\"/><gap/></abbr><expan>di<ex>n</ex><gap/></expan></choice>\\n<lb n=\"5\" xml:id=\"HB.f6ar.5\"/><choice><abbr>Sp<hi rend=\"superscript\">e</hi>ke<g ref=\"#bar\"/>se</abbr><expan>Sp<ex>re</ex>ke<ex>n</ex>se</expan></choice>\\n<lb n=\"6\" xml:id=\"HB.f6ar.6\"/><choice><abbr>ne<g ref=\"#bar\"/></abbr><expan>ne<ex>n</ex></expan></choice> besta<gap/>\\n<lb n=\"7\" xml:id=\"HB.f6ar.7\"/>Sie <choice><abbr>d<g ref=\"#etfin\"/></abbr><expan>d<ex>at</ex></expan></choice> <choice><abbr>di<gap/></abbr><expan>di<gap/></expan></choice>\\n<lb n=\"8\" xml:id=\"HB.f6ar.8\"/>de <choice><abbr>va<g ref=\"#bar\"/></abbr><expan>va<ex>n</ex></expan></choice> dier<gap/>\\n<lb n=\"9\" xml:id=\"HB.f6ar.9\"/><choice><abbr>m<g ref=\"#apomod\"/></abbr><expan>m<ex>aer</ex></expan></choice> <choice><abbr>d<g ref=\"#etfin\"/></abbr><expan>d<ex>at</ex></expan></choice> <choice><abbr>me<g ref=\"#bar\"/></abbr><expan>me<ex>n</ex></expan></choice> se<gap/>\\n<lb n=\"10\" xml:id=\"HB.f6ar.10\"/><choice><abbr>Pe<g ref=\"#bar\"/>st</abbr><expan>Pe<ex>n</ex>st</expan></choice> <choice><abbr>n<hi rend=\"superscript\">t</hi></abbr><expan>n<ex>iet</ex></expan></choice> <choice><abbr>wie<g ref=\"#bar\"/></abbr><expan>wie<ex>n</ex></expan></choice> <gap/>\\n<lb n=\"11\" xml:id=\"HB.f6ar.11\"/>noeges <c type=\"guide\">.</c></l> <l> Dat <gap/>\\n<lb n=\"12\" xml:id=\"HB.f6ar.12\"/>Leere dattu m<gap/>\\n<lb n=\"13\" xml:id=\"HB.f6ar.13\"/><choice><abbr>negee<g ref=\"#bar\"/>s</abbr><expan>negee<ex>n</ex>s</expan></choice> <choice><abbr>di<g ref=\"#bar\"/>cs</abbr><expan>di<ex>n</ex>cs</expan></choice> <choice><abbr>a<g ref=\"#bar\"/>d<gap/></abbr><expan>a<ex>n</ex>d<gap/></expan></choice>\\n<lb n=\"14\" xml:id=\"HB.f6ar.14\"/>ne maechs <c type=\"guide\">.</c></l> <l> <choice><abbr>Da<g ref=\"#apomod\"/></abbr><expan>Da<ex>er</ex></expan></choice>\\n<lb n=\"15\" xml:id=\"HB.f6ar.15\"/><choice><abbr>En<g ref=\"#bar\"/></abbr><expan>En<ex>de</ex></expan></choice> <choice><abbr>m<g ref=\"#etfin\"/></abbr><expan>m<ex>et</ex></expan></choice> <choice><abbr>g<hi rend=\"superscript\">o</hi>ter</abbr><expan>g<ex>ro</ex>ter</expan></choice> hoed<gap/>\\n<lb n=\"16\" xml:id=\"HB.f6ar.16\"/>vore de goede <c type=\"guide\">.</c></l> <l> <choice><abbr>Beg<g ref=\"#apomod\"/>e<gap/></abbr><expan>Beg<ex>er</ex>e<gap/></expan></choice>\\n<lb n=\"17\" xml:id=\"HB.f6ar.17\"/>moede <c type=\"guide\">.</c></l> <l> <choice><abbr>Da<g ref=\"#bar\"/></abbr><expan>Da<ex>n</ex></expan></choice> roep te d<gap/>'"
      ]
     },
     "execution_count": 41,
     "metadata": {},
     "output_type": "execute_result"
    }
   ],
   "source": [
    "page_num = '6ar'\n",
    "page_xml = parse_page(page_num)\n",
    "page_xml"
   ]
  },
  {
   "cell_type": "code",
   "execution_count": 42,
   "metadata": {},
   "outputs": [],
   "source": [
    "xml_str = start + page_xml + end\n",
    "with open('test.xml', 'w') as f:\n",
    "    f.write(xml_str)"
   ]
  },
  {
   "cell_type": "code",
   "execution_count": 488,
   "metadata": {},
   "outputs": [
    {
     "data": {
      "text/plain": [
       "['1r', '1v', '2r', '2v', '3r', '3v', '4r', '4v', '5r', '5v']"
      ]
     },
     "execution_count": 488,
     "metadata": {},
     "output_type": "execute_result"
    }
   ],
   "source": [
    "#fns = [os.path.basename(fn).replace('.docx', '') for fn in sorted(glob.glob('docx/*.docx'))[:10]]\n",
    "fns = []\n",
    "for idx in range(1, 6):\n",
    "    fns.extend([f'{idx}r', f'{idx}v'])\n",
    "fns"
   ]
  },
  {
   "cell_type": "code",
   "execution_count": 489,
   "metadata": {},
   "outputs": [
    {
     "name": "stdout",
     "output_type": "stream",
     "text": [
      "==== 1r\n",
      "==== 1v\n",
      "==== 2r\n",
      "-> unsolvable abbreviation: i\n",
      "==== 2v\n",
      "-> unsolvable abbreviation: ra#\n",
      "-> unsolvable abbreviation: en\n",
      "==== 3r\n",
      "==== 3v\n",
      "-> unsolvable abbreviation: ibi\n",
      "-> unsolvable abbreviation: on\n",
      "-> unsolvable abbreviation: ab\n",
      "==== 4r\n",
      "-> unsolvable abbreviation: ente\n",
      "==== 4v\n",
      "-> unsolvable abbreviation: e\n",
      "-> unsolvable abbreviation: ente\n",
      "==== 5r\n",
      "-> unsolvable abbreviation: en\n",
      "==== 5v\n",
      "-> unsolvable abbreviation: e\n"
     ]
    }
   ],
   "source": [
    "page_strs = []\n",
    "for page_num in fns:\n",
    "    print('====', page_num)\n",
    "    page_strs.append(parse_page(page_num))\n",
    "    \n",
    "xml_str = start + '\\n'.join(page_strs) + end\n",
    "\n",
    "with open('test.xml', 'w') as f:\n",
    "    f.write(xml_str)"
   ]
  },
  {
   "cell_type": "markdown",
   "metadata": {},
   "source": [
    "### TODO\n",
    "- Small caps (bv. nummers worden nog niet opgevangen)\n",
    "- Strofenummers worden niet onderscheiden van regelnummers\n",
    "- Onderlijnde stukken wordne nog niet opgevangen"
   ]
  },
  {
   "cell_type": "markdown",
   "metadata": {},
   "source": [
    "### Notas en vragen:\n",
    "- Ook eenregelige letters in rood met accolade\n",
    "- Toegevoegde woordafbrekingen (#) staan cursief: hebben we dit consequent gedaan?\n",
    "- : - zou :- moeten worden"
   ]
  },
  {
   "cell_type": "markdown",
   "metadata": {},
   "source": [
    "- Voor de regelnummering komen we echt in de problemen bij de hoofdstuktitels, die we op aparte lijnen weergeven.\n",
    "- ```<c type=\"guide\">.</c> moet eigenlijk <pc type=\"verse\">.</pc>```+ zijn, maar het framework laat dit niet toe\n",
    "- ```<choice><sic></sic><corr><c type=\"shy\">-</c></corr></choice>``` -> wordst niet toegelaten door framework"
   ]
  },
  {
   "cell_type": "code",
   "execution_count": null,
   "metadata": {},
   "outputs": [],
   "source": []
  }
 ],
 "metadata": {
  "kernelspec": {
   "display_name": "Python (py36)",
   "language": "python",
   "name": "py36"
  },
  "language_info": {
   "codemirror_mode": {
    "name": "ipython",
    "version": 3
   },
   "file_extension": ".py",
   "mimetype": "text/x-python",
   "name": "python",
   "nbconvert_exporter": "python",
   "pygments_lexer": "ipython3",
   "version": "3.6.8"
  }
 },
 "nbformat": 4,
 "nbformat_minor": 2
}
