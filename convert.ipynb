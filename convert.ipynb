{
 "cells": [
  {
   "cell_type": "code",
   "execution_count": 1,
   "metadata": {},
   "outputs": [],
   "source": [
    "import os\n",
    "import re\n",
    "import glob\n",
    "import string\n",
    "\n",
    "from lxml import etree"
   ]
  },
  {
   "cell_type": "code",
   "execution_count": 2,
   "metadata": {},
   "outputs": [
    {
     "name": "stdout",
     "output_type": "stream",
     "text": [
      "161\n"
     ]
    }
   ],
   "source": [
    "print(len(list(glob.glob('docx/*.docx'))))"
   ]
  },
  {
   "cell_type": "code",
   "execution_count": 3,
   "metadata": {},
   "outputs": [],
   "source": [
    "from docx import Document"
   ]
  },
  {
   "cell_type": "code",
   "execution_count": 4,
   "metadata": {},
   "outputs": [],
   "source": [
    "with open('docx/1r.docx', 'rb') as f:\n",
    "    document = Document(f)"
   ]
  },
  {
   "cell_type": "code",
   "execution_count": 5,
   "metadata": {},
   "outputs": [],
   "source": [
    "def reverse_engineer_abbreviation(solution):\n",
    "    expan = f'<ex>{solution}</ex>'\n",
    "    if solution in ('nm') or solution == 'de':\n",
    "        abbr = '<g ref=\"#bar\"/>'\n",
    "    elif solution.endswith('r'):\n",
    "        abbr = '<g ref=\"#apomod\"/>'\n",
    "    elif solution == \"et\" or solution == \"at\":\n",
    "        abbr = '<g ref=\"#etfin\"/>'\n",
    "    elif solution == \"pro\":\n",
    "        abbr = '<g ref=\"#pflour\"/>'\n",
    "    elif solution == \"par\":\n",
    "        abbr = '<g ref=\"#pbardes\"/>'\n",
    "    elif solution == \"per\":\n",
    "        abbr = '<g ref=\"#pbardes\"/>'\n",
    "    elif solution == \"con\" or solution == \"us\" or solution == \"com\":\n",
    "        abbr = '<g ref=\"#usmod\"/>'\n",
    "    elif solution == \"rv\":\n",
    "        abbr = '<hi rend=\"superscript\">v</hi>'\n",
    "    elif solution == \"ri\":\n",
    "        abbr = '<hi rend=\"superscript\">i</hi>'\n",
    "    elif solution == \"ur\":\n",
    "        abbr = '<hi rend=\"superscript\">z</hi>'\n",
    "    elif solution == \"ue\":\n",
    "        abbr = '<hi rend=\"superscript\">e</hi>'\n",
    "    elif solution == \"ro\":\n",
    "        abbr = '<hi rend=\"superscript\">o</hi>'\n",
    "    elif solution == \"ua\":\n",
    "        abbr = '<hi rend=\"superscript\">u</hi>'\n",
    "    elif solution == \"ra\":\n",
    "        abbr = '<hi rend=\"superscript\">u</hi>'\n",
    "    elif solution == \"re\":\n",
    "        abbr = '<hi rend=\"superscript\">e</hi>'\n",
    "    elif solution == \"eit\" or solution == \"iet\":\n",
    "        abbr = '<hi rend=\"superscript\">t</hi>'\n",
    "    else:\n",
    "        abbr = '<hi rend=\"superscript\">'+solution+'</hi>'\n",
    "        print(f'-> unsolvable abbreviation: {solution}')\n",
    "    try:\n",
    "        return abbr, expan\n",
    "    except:\n",
    "        return '', expan"
   ]
  },
  {
   "cell_type": "code",
   "execution_count": 6,
   "metadata": {},
   "outputs": [],
   "source": [
    "def parse_word(word):\n",
    "    parts, flags = [], []\n",
    "    part, flag = '', False\n",
    "    \n",
    "    for char in word:\n",
    "        if char == '%':\n",
    "            if part:\n",
    "                parts.append(part)\n",
    "                flags.append(flag)\n",
    "            part, flag = '', True\n",
    "        elif char == '$':\n",
    "            parts.append(part)\n",
    "            flags.append(flag)\n",
    "            part, flag = '', False\n",
    "        else:\n",
    "            part += char\n",
    "    \n",
    "    # dangling bit:\n",
    "    if part:\n",
    "        parts.append(part)\n",
    "        flags.append(flag)\n",
    "        \n",
    "    if len(parts) > 1:\n",
    "        solutions, abbrevs = [], []\n",
    "        for part, flag in zip(parts, flags):\n",
    "            if flag:\n",
    "                abbr, solution = reverse_engineer_abbreviation(part)\n",
    "                solutions.append(solution)\n",
    "                abbrevs.append(abbr)\n",
    "            else:\n",
    "                solutions.append(part)\n",
    "                abbrevs.append(part)\n",
    "\n",
    "        abbr = \"<abbr>\"+''.join(abbrevs)+\"</abbr>\"\n",
    "        expan = \"<expan>\"+''.join(solutions)+\"</expan>\"\n",
    "        encoded = '<choice>'+abbr+expan+'</choice>'\n",
    "    else:\n",
    "        encoded = ''.join(parts)\n",
    "    \n",
    "    return encoded"
   ]
  },
  {
   "cell_type": "code",
   "execution_count": 7,
   "metadata": {},
   "outputs": [],
   "source": [
    "def parse_normal_line(line, line_num, page_num):\n",
    "    line = line.strip()\n",
    "    encoded_tokens = []\n",
    "    trailer = True if line.endswith('-') else False\n",
    "    if trailer:\n",
    "        line = line[:-1]\n",
    "        \n",
    "    words = line.split()\n",
    "    for word in words:\n",
    "        if word in string.punctuation:\n",
    "            encoded_tokens.append('<pc>'+word+'</pc>')\n",
    "        else:\n",
    "            encoded_tokens.append(parse_word(word))\n",
    "    \n",
    "    encoded = ' '.join(encoded_tokens)\n",
    "    if trailer:\n",
    "        encoded += '<c type=\"shy\">-</c>'\n",
    "        \n",
    "    encoded = f'<lb n=\"{line_num}\" xml:id=\"HB.f{page_num}.{line_num}\"/>' + encoded\n",
    "    return encoded"
   ]
  },
  {
   "cell_type": "code",
   "execution_count": 8,
   "metadata": {},
   "outputs": [
    {
     "name": "stdout",
     "output_type": "stream",
     "text": [
      "::::\n",
      "<lb n=\"1\" xml:id=\"HB.f1r.1\"/>Dit <choice><abbr>sij<g ref=\"#bar\"/></abbr><expan>sij<ex>n</ex></expan></choice> dier liede <choice><abbr>wo<g ref=\"#apomod\"/>de</abbr><expan>wo<ex>er</ex>de</expan></choice> <choice><abbr>va<g ref=\"#bar\"/></abbr><expan>va<ex>n</ex></expan></choice> <choice><abbr>galle<g ref=\"#bar\"/></abbr><expan>galle<ex>n</ex></expan></choice>\n",
      "::::\n",
      "<lb n=\"2\" xml:id=\"HB.f1r.2\"/>Die gode die eweleke <choice><abbr>leue<g ref=\"#bar\"/></abbr><expan>leue<ex>n</ex></expan></choice> <pc>:</pc> <choice><abbr>En<g ref=\"#bar\"/></abbr><expan>En<ex>de</ex></expan></choice> jare <choice><abbr>gifte<g ref=\"#bar\"/></abbr><expan>gifte<ex>n</ex></expan></choice> bi rede<c type=\"shy\">-</c>\n",
      "::::\n",
      "<lb n=\"3\" xml:id=\"HB.f1r.3\"/><choice><abbr>ne<g ref=\"#bar\"/></abbr><expan>ne<ex>n</ex></expan></choice> <choice><abbr>geue<g ref=\"#bar\"/></abbr><expan>geue<ex>n</ex></expan></choice> <pc>:</pc> Als di ane liede <choice><abbr>wille<g ref=\"#bar\"/></abbr><expan>wille<ex>n</ex></expan></choice> <choice><abbr>w<hi rend=\"superscript\">e</hi>ke<g ref=\"#bar\"/></abbr><expan>w<ex>re</ex>ke<ex>n</ex></expan></choice> <pc>:</pc> Hare medoen\n",
      "::::\n",
      "<lb n=\"4\" xml:id=\"HB.f1r.4\"/><choice><abbr>en<g ref=\"#bar\"/></abbr><expan>en<ex>de</ex></expan></choice> hare <choice><abbr>mesp<hi rend=\"superscript\">e</hi>ke<g ref=\"#bar\"/></abbr><expan>mesp<ex>re</ex>ke<ex>n</ex></expan></choice> <pc>:</pc> So <choice><abbr>geue<g ref=\"#bar\"/></abbr><expan>geue<ex>n</ex></expan></choice> si hen een geval <pc>:</pc> <choice><abbr>En<g ref=\"#bar\"/></abbr><expan>En<ex>de</ex></expan></choice> hare\n",
      "::::\n",
      "<lb n=\"5\" xml:id=\"HB.f1r.5\"/>gevoechte male al <pc>:</pc> <choice><abbr>O<g ref=\"#bar\"/></abbr><expan>O<ex>m</ex></expan></choice> <choice><abbr>d<g ref=\"#etfin\"/></abbr><expan>d<ex>at</ex></expan></choice> hen <choice><abbr>v<g ref=\"#apomod\"/>lies</abbr><expan>v<ex>er</ex>lies</expan></choice> <choice><abbr>en<g ref=\"#bar\"/></abbr><expan>en<ex>de</ex></expan></choice> <choice><abbr>scade<g ref=\"#bar\"/></abbr><expan>scade<ex>n</ex></expan></choice> <pc>:</pc> <choice><abbr>d<g ref=\"#etfin\"/></abbr><expan>d<ex>at</ex></expan></choice> <choice><abbr>h<g ref=\"#apomod\"/>te</abbr><expan>h<ex>er</ex>te</expan></choice>\n",
      "::::\n",
      "<lb n=\"6\" xml:id=\"HB.f1r.6\"/>al te <choice><abbr>swa<g ref=\"#apomod\"/>re</abbr><expan>swa<ex>er</ex>re</expan></choice> <choice><abbr>lade<g ref=\"#bar\"/></abbr><expan>lade<ex>n</ex></expan></choice> <pc>:</pc> <choice><abbr>Selke<g ref=\"#bar\"/></abbr><expan>Selke<ex>n</ex></expan></choice> tijt als hen messciet <pc>:</pc> Al die\n",
      "::::\n",
      "<lb n=\"7\" xml:id=\"HB.f1r.7\"/><choice><abbr>w<g ref=\"#apomod\"/>elt</abbr><expan>w<ex>er</ex>elt</expan></choice> ne mochte <choice><abbr>n<hi rend=\"superscript\">t</hi></abbr><expan>n<ex>iet</ex></expan></choice> <pc>:</pc> <choice><abbr>Dla<g ref=\"#bar\"/>t</abbr><expan>Dla<ex>n</ex>t</expan></choice> <choice><abbr>va<g ref=\"#bar\"/></abbr><expan>va<ex>n</ex></expan></choice> <choice><abbr>galle<g ref=\"#bar\"/></abbr><expan>galle<ex>n</ex></expan></choice> <choice><abbr>sij<g ref=\"#bar\"/></abbr><expan>sij<ex>n</ex></expan></choice> alle <choice><abbr>va<g ref=\"#bar\"/></abbr><expan>va<ex>n</ex></expan></choice> <choice><abbr>si<g ref=\"#bar\"/>ne</abbr><expan>si<ex>n</ex>ne</expan></choice> <pc>:</pc> Goet heet <choice><abbr>en<g ref=\"#bar\"/></abbr><expan>en<ex>de</ex></expan></choice>\n",
      "::::\n",
      "<lb n=\"8\" xml:id=\"HB.f1r.8\"/>fier <choice><abbr>va<g ref=\"#bar\"/></abbr><expan>va<ex>n</ex></expan></choice> <choice><abbr>hare<g ref=\"#bar\"/></abbr><expan>hare<ex>n</ex></expan></choice> <choice><abbr>begi<g ref=\"#bar\"/>ne</abbr><expan>begi<ex>n</ex>ne</expan></choice> <pc>:</pc> Thant <choice><abbr>geloeue<g ref=\"#bar\"/></abbr><expan>geloeue<ex>n</ex></expan></choice> si ere mare <pc>:</pc>\n",
      "::::\n",
      "<lb n=\"9\" xml:id=\"HB.f1r.9\"/>Recht oft ware geproeft <choice><abbr>i<g ref=\"#bar\"/>t</abbr><expan>i<ex>n</ex>t</expan></choice> ware <pc>:</pc> Qualike <choice><abbr>moge<g ref=\"#bar\"/></abbr><expan>moge<ex>n</ex></expan></choice>\n",
      "::::\n",
      "<lb n=\"10\" xml:id=\"HB.f1r.10\"/>si iet <choice><abbr>la<g ref=\"#bar\"/>ge</abbr><expan>la<ex>n</ex>ge</expan></choice> <pc>:</pc> In <choice><abbr>pine<g ref=\"#bar\"/></abbr><expan>pine<ex>n</ex></expan></choice> <choice><abbr>sij<g ref=\"#bar\"/></abbr><expan>sij<ex>n</ex></expan></choice> <choice><abbr>en<g ref=\"#bar\"/></abbr><expan>en<ex>de</ex></expan></choice> <choice><abbr>i<g ref=\"#bar\"/></abbr><expan>i<ex>n</ex></expan></choice> <choice><abbr>bedwa<g ref=\"#bar\"/>ge</abbr><expan>bedwa<ex>n</ex>ge</expan></choice> <pc>:</pc> <choice><abbr>Me<g ref=\"#bar\"/></abbr><expan>Me<ex>n</ex></expan></choice> <choice><abbr>vi<g ref=\"#bar\"/>t</abbr><expan>vi<ex>n</ex>t</expan></choice> <choice><abbr>va<g ref=\"#bar\"/></abbr><expan>va<ex>n</ex></expan></choice> hen\n",
      "::::\n",
      "<lb n=\"11\" xml:id=\"HB.f1r.11\"/><choice><abbr>menege<g ref=\"#bar\"/></abbr><expan>menege<ex>n</ex></expan></choice> <choice><abbr>gro<g ref=\"#etfin\"/></abbr><expan>gro<ex>et</ex></expan></choice> <pc>:</pc> Die hen <choice><abbr>selue<g ref=\"#bar\"/></abbr><expan>selue<ex>n</ex></expan></choice> eer <choice><abbr>slae<g ref=\"#bar\"/></abbr><expan>slae<ex>n</ex></expan></choice> te doot <pc>:</pc> Dan\n",
      "::::\n",
      "<lb n=\"12\" xml:id=\"HB.f1r.12\"/>si wiselike <choice><abbr>i<g ref=\"#bar\"/></abbr><expan>i<ex>n</ex></expan></choice> <choice><abbr>d<g ref=\"#apomod\"/></abbr><expan>d<ex>er</ex></expan></choice> hoede <pc>:</pc> <choice><abbr>Ghewoegede<g ref=\"#bar\"/></abbr><expan>Ghewoegede<ex>n</ex></expan></choice> <choice><abbr>la<g ref=\"#bar\"/>ge</abbr><expan>la<ex>n</ex>ge</expan></choice> armoede <pc>:</pc>\n",
      "::::\n",
      "<lb n=\"13\" xml:id=\"HB.f1r.13\"/>\n",
      "::::\n",
      "<lb n=\"14\" xml:id=\"HB.f1r.14\"/>r. 5: Onduidelijk of de woorden <choice><abbr>O<g ref=\"#bar\"/></abbr><expan>O<ex>m</ex></expan></choice> <choice><abbr>d<g ref=\"#etfin\"/></abbr><expan>d<ex>at</ex></expan></choice> aaneengeschreven of losgeschreven <choice><abbr>worden.</abbr><expan>worden.</expan></choice>\n",
      "::::\n",
      "<lb n=\"15\" xml:id=\"HB.f1r.15\"/>r. 6: Onduidelijk of de woorden al te <choice><abbr>swa<g ref=\"#apomod\"/>re</abbr><expan>swa<ex>er</ex>re</expan></choice> aaneengeschreven of losgeschreven worden.\n",
      "::::\n",
      "-> unsolvable abbreviation: signe\n",
      "<lb n=\"16\" xml:id=\"HB.f1r.16\"/>r. 7: heet ingevoegd in rechtermarge via <choice><abbr><hi rend=\"superscript\">signe</hi></abbr><expan><ex>signe</ex></expan></choice> de <choice><abbr>renvoi.</abbr><expan>renvoi.</expan></choice>\n"
     ]
    }
   ],
   "source": [
    "page_num = '1r'\n",
    "\n",
    "for idx, para in enumerate(document.paragraphs):\n",
    "    print('::::')\n",
    "    line = ''\n",
    "    for run in para.runs:\n",
    "        if run.italic:\n",
    "            line += f'%{run.text}$'\n",
    "        else:\n",
    "            line += run.text\n",
    "    print(parse_normal_line(line, line_num=idx + 1, page_num=page_num))\n",
    "            \n",
    "        #print(run.bold)\n",
    "        #print(run.italic)\n",
    "        #print(run.underline)"
   ]
  },
  {
   "cell_type": "code",
   "execution_count": null,
   "metadata": {},
   "outputs": [],
   "source": []
  },
  {
   "cell_type": "code",
   "execution_count": null,
   "metadata": {},
   "outputs": [],
   "source": []
  }
 ],
 "metadata": {
  "kernelspec": {
   "display_name": "Python (py36)",
   "language": "python",
   "name": "py36"
  },
  "language_info": {
   "codemirror_mode": {
    "name": "ipython",
    "version": 3
   },
   "file_extension": ".py",
   "mimetype": "text/x-python",
   "name": "python",
   "nbconvert_exporter": "python",
   "pygments_lexer": "ipython3",
   "version": "3.6.8"
  }
 },
 "nbformat": 4,
 "nbformat_minor": 2
}
